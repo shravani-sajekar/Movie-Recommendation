{
 "cells": [
  {
   "cell_type": "markdown",
   "metadata": {
    "id": "Hr7SGYEq69wv"
   },
   "source": [
    "# ITCS 6162: Data Mining - Programming Assignment"
   ]
  },
  {
   "cell_type": "markdown",
   "metadata": {
    "id": "L_idzFtE7M_9"
   },
   "source": [
    "**In this assignment, you will explore data analysis, recommendation algorithms, and graph-based techniques using the MovieLens dataset. Your tasks will range from basic data exploration to advanced recommendation models, including:**\n",
    "- Data manipulation with pandas\n",
    "- User-item collaborative filtering\n",
    "- Similarity-based recommendation models\n",
    "- A Pixie-inspired Graph-based recommendation using adjacency lists with weighted random walks (without using NetworkX)\n"
   ]
  },
  {
   "cell_type": "markdown",
   "metadata": {
    "id": "EZxjOF_l79zc"
   },
   "source": [
    "#### **Dataset Files:**\n",
    "- **`u.data`**: User-movie ratings (`user_id  movie_id  rating  timestamp`)\n",
    "- **`u.item`**: Movie metadata (`movie_id | title | release date | IMDB_website`)\n",
    "- **`u.user`**: User demographics (`user_id | age | gender | occupation | zip_code`)"
   ]
  },
  {
   "cell_type": "markdown",
   "metadata": {
    "id": "ytr6isc2F9g6"
   },
   "source": [
    "## **Part 1: Exploring and Cleaning Data**"
   ]
  },
  {
   "cell_type": "markdown",
   "metadata": {},
   "source": [
    "\n",
    "We start by examining the structure of the MovieLens dataset files: `u.data`, `u.item`, and `u.user`.\n"
   ]
  },
  {
   "cell_type": "markdown",
   "metadata": {
    "id": "87kIrhTC9Ba1"
   },
   "source": [
    "### Inspecting the Dataset Format\n",
    "\n",
    "The dataset is not in a traditional CSV format. To examine its structure, use the following shell command to display the first 10 lines of the file:\n",
    "\n",
    "```sh\n",
    "!head <file_name>\n"
   ]
  },
  {
   "cell_type": "markdown",
   "metadata": {
    "id": "PjOtbBWM9xWv"
   },
   "source": [
    "**In the cells given below. Write the code to read the files.**"
   ]
  },
  {
   "cell_type": "code",
   "execution_count": 1,
   "metadata": {
    "id": "XOoSaKsq68nD"
   },
   "outputs": [],
   "source": [
    "# u.data\n",
    "data = !head<u.data>"
   ]
  },
  {
   "cell_type": "code",
   "execution_count": 2,
   "metadata": {
    "id": "dckMko0o9t-D"
   },
   "outputs": [],
   "source": [
    "# u.item\n",
    "item = !head<u.item>"
   ]
  },
  {
   "cell_type": "code",
   "execution_count": 3,
   "metadata": {
    "id": "R7kBwpsi-WKB"
   },
   "outputs": [],
   "source": [
    "# u.user\n",
    "user = !head<u.user>"
   ]
  },
  {
   "cell_type": "markdown",
   "metadata": {
    "id": "YnryIHO7-db3"
   },
   "source": [
    "#### Loading the Dataset with Pandas"
   ]
  },
  {
   "cell_type": "markdown",
   "metadata": {
    "id": "Jwmza7riBj30"
   },
   "source": [
    "Use **pandas** to load the dataset into a DataFrame for analysis. Follow these steps:  \n",
    "\n",
    "1. Import the necessary library: `pandas`.  \n",
    "2. Use `pd.read_csv()` (or an appropriate function) to read the dataset file.  \n",
    "3. Ensure the dataset is loaded with the correct delimiter (e.g., `','`, `'\\t'`,`'|'` , or another separator if needed).  \n",
    "4. Select and display the first few rows using `.head()`."
   ]
  },
  {
   "cell_type": "markdown",
   "metadata": {
    "id": "KPEDYYGOBOSD"
   },
   "source": [
    "Ensure that:  \n",
    "\n",
    "- The `ratings` dataset is read from `\"u.data\"` using tab (`'\\t'`) as a separator and column names (`\"user_id\"`, `\"movie_id\"`, `\"rating\"` and `\"timestamp\"`).  \n",
    "- The `movies` dataset is read from `\"u.item\"` using `'|'` as a separator, use columns (`0`, `1`, `2`), encoding (`\"latin-1\"`) and name the columns (`movie_id`, `title`, and `release_date`).  \n",
    "- The `users` dataset is read from `\"u.user\"` using `'|'` as a separator, use columns (`0`, `1`, `2`, `3`) and name the columns (`user_id`, `age`, `gender`, and `occupation`)."
   ]
  },
  {
   "cell_type": "code",
   "execution_count": 4,
   "metadata": {
    "id": "Go-Y-Ofy-ZTk"
   },
   "outputs": [],
   "source": [
    "# ratings\n",
    "# Importing the pandas library for data manipulation\n",
    "import pandas as pd\n",
    "# Reading the ratings data from u.data\n",
    "# Using tab as a separator since the file is tab-delimited\n",
    "# Providing column names: user_id, movie_id, rating, and timestamp\n",
    "ratings = pd.read_csv('u.data', sep='\\t', header=None, names=['user_id', 'movie_id', 'rating', 'timestamp'])"
   ]
  },
  {
   "cell_type": "code",
   "execution_count": 5,
   "metadata": {},
   "outputs": [
    {
     "data": {
      "text/html": [
       "<div>\n",
       "<style scoped>\n",
       "    .dataframe tbody tr th:only-of-type {\n",
       "        vertical-align: middle;\n",
       "    }\n",
       "\n",
       "    .dataframe tbody tr th {\n",
       "        vertical-align: top;\n",
       "    }\n",
       "\n",
       "    .dataframe thead th {\n",
       "        text-align: right;\n",
       "    }\n",
       "</style>\n",
       "<table border=\"1\" class=\"dataframe\">\n",
       "  <thead>\n",
       "    <tr style=\"text-align: right;\">\n",
       "      <th></th>\n",
       "      <th>user_id</th>\n",
       "      <th>movie_id</th>\n",
       "      <th>rating</th>\n",
       "      <th>timestamp</th>\n",
       "    </tr>\n",
       "  </thead>\n",
       "  <tbody>\n",
       "    <tr>\n",
       "      <th>0</th>\n",
       "      <td>196</td>\n",
       "      <td>242</td>\n",
       "      <td>3</td>\n",
       "      <td>881250949</td>\n",
       "    </tr>\n",
       "    <tr>\n",
       "      <th>1</th>\n",
       "      <td>186</td>\n",
       "      <td>302</td>\n",
       "      <td>3</td>\n",
       "      <td>891717742</td>\n",
       "    </tr>\n",
       "    <tr>\n",
       "      <th>2</th>\n",
       "      <td>22</td>\n",
       "      <td>377</td>\n",
       "      <td>1</td>\n",
       "      <td>878887116</td>\n",
       "    </tr>\n",
       "    <tr>\n",
       "      <th>3</th>\n",
       "      <td>244</td>\n",
       "      <td>51</td>\n",
       "      <td>2</td>\n",
       "      <td>880606923</td>\n",
       "    </tr>\n",
       "    <tr>\n",
       "      <th>4</th>\n",
       "      <td>166</td>\n",
       "      <td>346</td>\n",
       "      <td>1</td>\n",
       "      <td>886397596</td>\n",
       "    </tr>\n",
       "  </tbody>\n",
       "</table>\n",
       "</div>"
      ],
      "text/plain": [
       "   user_id  movie_id  rating  timestamp\n",
       "0      196       242       3  881250949\n",
       "1      186       302       3  891717742\n",
       "2       22       377       1  878887116\n",
       "3      244        51       2  880606923\n",
       "4      166       346       1  886397596"
      ]
     },
     "execution_count": 5,
     "metadata": {},
     "output_type": "execute_result"
    }
   ],
   "source": [
    "# Display the first 5 rows of the ratings dataset\n",
    "ratings.head()"
   ]
  },
  {
   "cell_type": "code",
   "execution_count": 6,
   "metadata": {
    "id": "zM8IJGh-CLN5"
   },
   "outputs": [],
   "source": [
    "# movies\n",
    "# Reading movie data from u.item\n",
    "# Using pipe (|) as a separator\n",
    "# Only loading relevant columns: movie_id, title, release_date\n",
    "# Encoding is set to latin-1 to avoid character decoding issues\n",
    "movies = pd.read_csv('u.item', sep='|', header=None, usecols=[0, 1, 2], encoding='latin-1', names=['movie_id', 'title', 'release_date'])"
   ]
  },
  {
   "cell_type": "code",
   "execution_count": 7,
   "metadata": {},
   "outputs": [
    {
     "data": {
      "text/html": [
       "<div>\n",
       "<style scoped>\n",
       "    .dataframe tbody tr th:only-of-type {\n",
       "        vertical-align: middle;\n",
       "    }\n",
       "\n",
       "    .dataframe tbody tr th {\n",
       "        vertical-align: top;\n",
       "    }\n",
       "\n",
       "    .dataframe thead th {\n",
       "        text-align: right;\n",
       "    }\n",
       "</style>\n",
       "<table border=\"1\" class=\"dataframe\">\n",
       "  <thead>\n",
       "    <tr style=\"text-align: right;\">\n",
       "      <th></th>\n",
       "      <th>movie_id</th>\n",
       "      <th>title</th>\n",
       "      <th>release_date</th>\n",
       "    </tr>\n",
       "  </thead>\n",
       "  <tbody>\n",
       "    <tr>\n",
       "      <th>0</th>\n",
       "      <td>1</td>\n",
       "      <td>Toy Story (1995)</td>\n",
       "      <td>01-Jan-1995</td>\n",
       "    </tr>\n",
       "    <tr>\n",
       "      <th>1</th>\n",
       "      <td>2</td>\n",
       "      <td>GoldenEye (1995)</td>\n",
       "      <td>01-Jan-1995</td>\n",
       "    </tr>\n",
       "    <tr>\n",
       "      <th>2</th>\n",
       "      <td>3</td>\n",
       "      <td>Four Rooms (1995)</td>\n",
       "      <td>01-Jan-1995</td>\n",
       "    </tr>\n",
       "    <tr>\n",
       "      <th>3</th>\n",
       "      <td>4</td>\n",
       "      <td>Get Shorty (1995)</td>\n",
       "      <td>01-Jan-1995</td>\n",
       "    </tr>\n",
       "    <tr>\n",
       "      <th>4</th>\n",
       "      <td>5</td>\n",
       "      <td>Copycat (1995)</td>\n",
       "      <td>01-Jan-1995</td>\n",
       "    </tr>\n",
       "  </tbody>\n",
       "</table>\n",
       "</div>"
      ],
      "text/plain": [
       "   movie_id              title release_date\n",
       "0         1   Toy Story (1995)  01-Jan-1995\n",
       "1         2   GoldenEye (1995)  01-Jan-1995\n",
       "2         3  Four Rooms (1995)  01-Jan-1995\n",
       "3         4  Get Shorty (1995)  01-Jan-1995\n",
       "4         5     Copycat (1995)  01-Jan-1995"
      ]
     },
     "execution_count": 7,
     "metadata": {},
     "output_type": "execute_result"
    }
   ],
   "source": [
    "# Display the first 5 rows of the movies dataset\n",
    "movies.head()"
   ]
  },
  {
   "cell_type": "code",
   "execution_count": 8,
   "metadata": {
    "id": "hsekVjevCNKj"
   },
   "outputs": [],
   "source": [
    "# users\n",
    "# Reading user data from u.user\n",
    "# Using pipe (|) as a separator\n",
    "# Loading user_id, age, gender, and occupation columns\n",
    "users = pd.read_csv('u.user', sep='|', header=None, usecols=[0, 1, 2, 3], names=['user_id', 'age', 'gender', 'occupation'])"
   ]
  },
  {
   "cell_type": "code",
   "execution_count": 9,
   "metadata": {},
   "outputs": [
    {
     "data": {
      "text/html": [
       "<div>\n",
       "<style scoped>\n",
       "    .dataframe tbody tr th:only-of-type {\n",
       "        vertical-align: middle;\n",
       "    }\n",
       "\n",
       "    .dataframe tbody tr th {\n",
       "        vertical-align: top;\n",
       "    }\n",
       "\n",
       "    .dataframe thead th {\n",
       "        text-align: right;\n",
       "    }\n",
       "</style>\n",
       "<table border=\"1\" class=\"dataframe\">\n",
       "  <thead>\n",
       "    <tr style=\"text-align: right;\">\n",
       "      <th></th>\n",
       "      <th>user_id</th>\n",
       "      <th>age</th>\n",
       "      <th>gender</th>\n",
       "      <th>occupation</th>\n",
       "    </tr>\n",
       "  </thead>\n",
       "  <tbody>\n",
       "    <tr>\n",
       "      <th>0</th>\n",
       "      <td>1</td>\n",
       "      <td>24</td>\n",
       "      <td>M</td>\n",
       "      <td>technician</td>\n",
       "    </tr>\n",
       "    <tr>\n",
       "      <th>1</th>\n",
       "      <td>2</td>\n",
       "      <td>53</td>\n",
       "      <td>F</td>\n",
       "      <td>other</td>\n",
       "    </tr>\n",
       "    <tr>\n",
       "      <th>2</th>\n",
       "      <td>3</td>\n",
       "      <td>23</td>\n",
       "      <td>M</td>\n",
       "      <td>writer</td>\n",
       "    </tr>\n",
       "    <tr>\n",
       "      <th>3</th>\n",
       "      <td>4</td>\n",
       "      <td>24</td>\n",
       "      <td>M</td>\n",
       "      <td>technician</td>\n",
       "    </tr>\n",
       "    <tr>\n",
       "      <th>4</th>\n",
       "      <td>5</td>\n",
       "      <td>33</td>\n",
       "      <td>F</td>\n",
       "      <td>other</td>\n",
       "    </tr>\n",
       "  </tbody>\n",
       "</table>\n",
       "</div>"
      ],
      "text/plain": [
       "   user_id  age gender  occupation\n",
       "0        1   24      M  technician\n",
       "1        2   53      F       other\n",
       "2        3   23      M      writer\n",
       "3        4   24      M  technician\n",
       "4        5   33      F       other"
      ]
     },
     "execution_count": 9,
     "metadata": {},
     "output_type": "execute_result"
    }
   ],
   "source": [
    "# Display the first 10 rows of the users dataset\n",
    "users.head()"
   ]
  },
  {
   "cell_type": "markdown",
   "metadata": {},
   "source": [
    "#### Saving the ratings DataFrame to a CSV file "
   ]
  },
  {
   "cell_type": "markdown",
   "metadata": {
    "id": "jE5OHLqt7xeq"
   },
   "source": [
    "**Note:** As a **Bonus** task save the `ratings`, `movies` and `users` dataframe created into a `.csv` file format. <br>\n",
    "**Hint:** Use the `to_csv()` function in pandas to save these DataFrames as CSV files."
   ]
  },
  {
   "cell_type": "code",
   "execution_count": 10,
   "metadata": {
    "id": "Chyv3c4n8wVC"
   },
   "outputs": [],
   "source": [
    "# index=False ensures the DataFrame index is not saved as a separate column# ratings\n",
    "ratings.to_csv('ratings.csv')"
   ]
  },
  {
   "cell_type": "code",
   "execution_count": 11,
   "metadata": {
    "id": "Gl7zVV3y8wKU"
   },
   "outputs": [],
   "source": [
    "# movies\n",
    "movies.to_csv('movies.csv')"
   ]
  },
  {
   "cell_type": "code",
   "execution_count": 12,
   "metadata": {
    "id": "0YwVuebp8u46"
   },
   "outputs": [],
   "source": [
    "# users\n",
    "users.to_csv('users.csv')"
   ]
  },
  {
   "cell_type": "markdown",
   "metadata": {
    "id": "s3S1y82cCYxx"
   },
   "source": [
    "**Display the first 10 rows of each file.**"
   ]
  },
  {
   "cell_type": "code",
   "execution_count": 13,
   "metadata": {
    "id": "x5ZOXTqnCPgw"
   },
   "outputs": [
    {
     "name": "stdout",
     "output_type": "stream",
     "text": [
      "\n",
      "First 10 rows of ratings dataset - \n"
     ]
    },
    {
     "data": {
      "text/html": [
       "<div>\n",
       "<style scoped>\n",
       "    .dataframe tbody tr th:only-of-type {\n",
       "        vertical-align: middle;\n",
       "    }\n",
       "\n",
       "    .dataframe tbody tr th {\n",
       "        vertical-align: top;\n",
       "    }\n",
       "\n",
       "    .dataframe thead th {\n",
       "        text-align: right;\n",
       "    }\n",
       "</style>\n",
       "<table border=\"1\" class=\"dataframe\">\n",
       "  <thead>\n",
       "    <tr style=\"text-align: right;\">\n",
       "      <th></th>\n",
       "      <th>user_id</th>\n",
       "      <th>movie_id</th>\n",
       "      <th>rating</th>\n",
       "      <th>timestamp</th>\n",
       "    </tr>\n",
       "  </thead>\n",
       "  <tbody>\n",
       "    <tr>\n",
       "      <th>0</th>\n",
       "      <td>196</td>\n",
       "      <td>242</td>\n",
       "      <td>3</td>\n",
       "      <td>881250949</td>\n",
       "    </tr>\n",
       "    <tr>\n",
       "      <th>1</th>\n",
       "      <td>186</td>\n",
       "      <td>302</td>\n",
       "      <td>3</td>\n",
       "      <td>891717742</td>\n",
       "    </tr>\n",
       "    <tr>\n",
       "      <th>2</th>\n",
       "      <td>22</td>\n",
       "      <td>377</td>\n",
       "      <td>1</td>\n",
       "      <td>878887116</td>\n",
       "    </tr>\n",
       "    <tr>\n",
       "      <th>3</th>\n",
       "      <td>244</td>\n",
       "      <td>51</td>\n",
       "      <td>2</td>\n",
       "      <td>880606923</td>\n",
       "    </tr>\n",
       "    <tr>\n",
       "      <th>4</th>\n",
       "      <td>166</td>\n",
       "      <td>346</td>\n",
       "      <td>1</td>\n",
       "      <td>886397596</td>\n",
       "    </tr>\n",
       "    <tr>\n",
       "      <th>5</th>\n",
       "      <td>298</td>\n",
       "      <td>474</td>\n",
       "      <td>4</td>\n",
       "      <td>884182806</td>\n",
       "    </tr>\n",
       "    <tr>\n",
       "      <th>6</th>\n",
       "      <td>115</td>\n",
       "      <td>265</td>\n",
       "      <td>2</td>\n",
       "      <td>881171488</td>\n",
       "    </tr>\n",
       "    <tr>\n",
       "      <th>7</th>\n",
       "      <td>253</td>\n",
       "      <td>465</td>\n",
       "      <td>5</td>\n",
       "      <td>891628467</td>\n",
       "    </tr>\n",
       "    <tr>\n",
       "      <th>8</th>\n",
       "      <td>305</td>\n",
       "      <td>451</td>\n",
       "      <td>3</td>\n",
       "      <td>886324817</td>\n",
       "    </tr>\n",
       "    <tr>\n",
       "      <th>9</th>\n",
       "      <td>6</td>\n",
       "      <td>86</td>\n",
       "      <td>3</td>\n",
       "      <td>883603013</td>\n",
       "    </tr>\n",
       "  </tbody>\n",
       "</table>\n",
       "</div>"
      ],
      "text/plain": [
       "   user_id  movie_id  rating  timestamp\n",
       "0      196       242       3  881250949\n",
       "1      186       302       3  891717742\n",
       "2       22       377       1  878887116\n",
       "3      244        51       2  880606923\n",
       "4      166       346       1  886397596\n",
       "5      298       474       4  884182806\n",
       "6      115       265       2  881171488\n",
       "7      253       465       5  891628467\n",
       "8      305       451       3  886324817\n",
       "9        6        86       3  883603013"
      ]
     },
     "execution_count": 13,
     "metadata": {},
     "output_type": "execute_result"
    }
   ],
   "source": [
    "# ratings\n",
    "print(\"\\nFirst 10 rows of ratings dataset - \")\n",
    "ratings.head(10)"
   ]
  },
  {
   "cell_type": "code",
   "execution_count": 14,
   "metadata": {
    "id": "AzuqiRkrCdfZ"
   },
   "outputs": [
    {
     "name": "stdout",
     "output_type": "stream",
     "text": [
      "\n",
      "First 10 rows of movies dataset - \n"
     ]
    },
    {
     "data": {
      "text/html": [
       "<div>\n",
       "<style scoped>\n",
       "    .dataframe tbody tr th:only-of-type {\n",
       "        vertical-align: middle;\n",
       "    }\n",
       "\n",
       "    .dataframe tbody tr th {\n",
       "        vertical-align: top;\n",
       "    }\n",
       "\n",
       "    .dataframe thead th {\n",
       "        text-align: right;\n",
       "    }\n",
       "</style>\n",
       "<table border=\"1\" class=\"dataframe\">\n",
       "  <thead>\n",
       "    <tr style=\"text-align: right;\">\n",
       "      <th></th>\n",
       "      <th>movie_id</th>\n",
       "      <th>title</th>\n",
       "      <th>release_date</th>\n",
       "    </tr>\n",
       "  </thead>\n",
       "  <tbody>\n",
       "    <tr>\n",
       "      <th>0</th>\n",
       "      <td>1</td>\n",
       "      <td>Toy Story (1995)</td>\n",
       "      <td>01-Jan-1995</td>\n",
       "    </tr>\n",
       "    <tr>\n",
       "      <th>1</th>\n",
       "      <td>2</td>\n",
       "      <td>GoldenEye (1995)</td>\n",
       "      <td>01-Jan-1995</td>\n",
       "    </tr>\n",
       "    <tr>\n",
       "      <th>2</th>\n",
       "      <td>3</td>\n",
       "      <td>Four Rooms (1995)</td>\n",
       "      <td>01-Jan-1995</td>\n",
       "    </tr>\n",
       "    <tr>\n",
       "      <th>3</th>\n",
       "      <td>4</td>\n",
       "      <td>Get Shorty (1995)</td>\n",
       "      <td>01-Jan-1995</td>\n",
       "    </tr>\n",
       "    <tr>\n",
       "      <th>4</th>\n",
       "      <td>5</td>\n",
       "      <td>Copycat (1995)</td>\n",
       "      <td>01-Jan-1995</td>\n",
       "    </tr>\n",
       "    <tr>\n",
       "      <th>5</th>\n",
       "      <td>6</td>\n",
       "      <td>Shanghai Triad (Yao a yao yao dao waipo qiao) ...</td>\n",
       "      <td>01-Jan-1995</td>\n",
       "    </tr>\n",
       "    <tr>\n",
       "      <th>6</th>\n",
       "      <td>7</td>\n",
       "      <td>Twelve Monkeys (1995)</td>\n",
       "      <td>01-Jan-1995</td>\n",
       "    </tr>\n",
       "    <tr>\n",
       "      <th>7</th>\n",
       "      <td>8</td>\n",
       "      <td>Babe (1995)</td>\n",
       "      <td>01-Jan-1995</td>\n",
       "    </tr>\n",
       "    <tr>\n",
       "      <th>8</th>\n",
       "      <td>9</td>\n",
       "      <td>Dead Man Walking (1995)</td>\n",
       "      <td>01-Jan-1995</td>\n",
       "    </tr>\n",
       "    <tr>\n",
       "      <th>9</th>\n",
       "      <td>10</td>\n",
       "      <td>Richard III (1995)</td>\n",
       "      <td>22-Jan-1996</td>\n",
       "    </tr>\n",
       "  </tbody>\n",
       "</table>\n",
       "</div>"
      ],
      "text/plain": [
       "   movie_id                                              title release_date\n",
       "0         1                                   Toy Story (1995)  01-Jan-1995\n",
       "1         2                                   GoldenEye (1995)  01-Jan-1995\n",
       "2         3                                  Four Rooms (1995)  01-Jan-1995\n",
       "3         4                                  Get Shorty (1995)  01-Jan-1995\n",
       "4         5                                     Copycat (1995)  01-Jan-1995\n",
       "5         6  Shanghai Triad (Yao a yao yao dao waipo qiao) ...  01-Jan-1995\n",
       "6         7                              Twelve Monkeys (1995)  01-Jan-1995\n",
       "7         8                                        Babe (1995)  01-Jan-1995\n",
       "8         9                            Dead Man Walking (1995)  01-Jan-1995\n",
       "9        10                                 Richard III (1995)  22-Jan-1996"
      ]
     },
     "execution_count": 14,
     "metadata": {},
     "output_type": "execute_result"
    }
   ],
   "source": [
    "# movies\n",
    "print(\"\\nFirst 10 rows of movies dataset - \")\n",
    "movies.head(10)"
   ]
  },
  {
   "cell_type": "code",
   "execution_count": 15,
   "metadata": {
    "id": "FE9hcM9mCewe"
   },
   "outputs": [
    {
     "name": "stdout",
     "output_type": "stream",
     "text": [
      "\n",
      "First 10 rows of users dataset - \n"
     ]
    },
    {
     "data": {
      "text/html": [
       "<div>\n",
       "<style scoped>\n",
       "    .dataframe tbody tr th:only-of-type {\n",
       "        vertical-align: middle;\n",
       "    }\n",
       "\n",
       "    .dataframe tbody tr th {\n",
       "        vertical-align: top;\n",
       "    }\n",
       "\n",
       "    .dataframe thead th {\n",
       "        text-align: right;\n",
       "    }\n",
       "</style>\n",
       "<table border=\"1\" class=\"dataframe\">\n",
       "  <thead>\n",
       "    <tr style=\"text-align: right;\">\n",
       "      <th></th>\n",
       "      <th>user_id</th>\n",
       "      <th>age</th>\n",
       "      <th>gender</th>\n",
       "      <th>occupation</th>\n",
       "    </tr>\n",
       "  </thead>\n",
       "  <tbody>\n",
       "    <tr>\n",
       "      <th>0</th>\n",
       "      <td>1</td>\n",
       "      <td>24</td>\n",
       "      <td>M</td>\n",
       "      <td>technician</td>\n",
       "    </tr>\n",
       "    <tr>\n",
       "      <th>1</th>\n",
       "      <td>2</td>\n",
       "      <td>53</td>\n",
       "      <td>F</td>\n",
       "      <td>other</td>\n",
       "    </tr>\n",
       "    <tr>\n",
       "      <th>2</th>\n",
       "      <td>3</td>\n",
       "      <td>23</td>\n",
       "      <td>M</td>\n",
       "      <td>writer</td>\n",
       "    </tr>\n",
       "    <tr>\n",
       "      <th>3</th>\n",
       "      <td>4</td>\n",
       "      <td>24</td>\n",
       "      <td>M</td>\n",
       "      <td>technician</td>\n",
       "    </tr>\n",
       "    <tr>\n",
       "      <th>4</th>\n",
       "      <td>5</td>\n",
       "      <td>33</td>\n",
       "      <td>F</td>\n",
       "      <td>other</td>\n",
       "    </tr>\n",
       "    <tr>\n",
       "      <th>5</th>\n",
       "      <td>6</td>\n",
       "      <td>42</td>\n",
       "      <td>M</td>\n",
       "      <td>executive</td>\n",
       "    </tr>\n",
       "    <tr>\n",
       "      <th>6</th>\n",
       "      <td>7</td>\n",
       "      <td>57</td>\n",
       "      <td>M</td>\n",
       "      <td>administrator</td>\n",
       "    </tr>\n",
       "    <tr>\n",
       "      <th>7</th>\n",
       "      <td>8</td>\n",
       "      <td>36</td>\n",
       "      <td>M</td>\n",
       "      <td>administrator</td>\n",
       "    </tr>\n",
       "    <tr>\n",
       "      <th>8</th>\n",
       "      <td>9</td>\n",
       "      <td>29</td>\n",
       "      <td>M</td>\n",
       "      <td>student</td>\n",
       "    </tr>\n",
       "    <tr>\n",
       "      <th>9</th>\n",
       "      <td>10</td>\n",
       "      <td>53</td>\n",
       "      <td>M</td>\n",
       "      <td>lawyer</td>\n",
       "    </tr>\n",
       "  </tbody>\n",
       "</table>\n",
       "</div>"
      ],
      "text/plain": [
       "   user_id  age gender     occupation\n",
       "0        1   24      M     technician\n",
       "1        2   53      F          other\n",
       "2        3   23      M         writer\n",
       "3        4   24      M     technician\n",
       "4        5   33      F          other\n",
       "5        6   42      M      executive\n",
       "6        7   57      M  administrator\n",
       "7        8   36      M  administrator\n",
       "8        9   29      M        student\n",
       "9       10   53      M         lawyer"
      ]
     },
     "execution_count": 15,
     "metadata": {},
     "output_type": "execute_result"
    }
   ],
   "source": [
    "# users\n",
    "print(\"\\nFirst 10 rows of users dataset - \")\n",
    "users.head(10)"
   ]
  },
  {
   "cell_type": "markdown",
   "metadata": {
    "id": "i38iDIz-DiVj"
   },
   "source": [
    "### Data Cleaning and Exploration with Pandas  \n",
    "\n",
    "After loading the dataset, it’s important to clean and explore the data to ensure consistency and accuracy. Below are key **pandas** functions for cleaning and understanding the dataset.\n",
    "\n",
    "#### 1. Handle Missing Values  \n",
    "- `df.dropna()` – Removes rows with missing values.  \n",
    "- `df.fillna(value)` – Fills missing values with a specified value.  \n",
    "\n",
    "#### 2. Remove Duplicates  \n",
    "- `df.drop_duplicates()` – Drops duplicate rows from the dataset.  \n",
    "\n",
    "#### 3. Handle Incorrect Data Types  \n",
    "- `df.astype(dtype)` – Converts columns to the appropriate data type.  \n",
    "\n",
    "#### 4. Filter Outliers (if applicable)  \n",
    "- `df[df['column_name'] > threshold]` – Filters rows based on a condition.  \n",
    "\n",
    "#### 5. Rename Columns (if needed)  \n",
    "- `df.rename(columns={'old_name': 'new_name'})` – Renames columns for clarity.  \n",
    "\n",
    "#### 6. Reset Index  \n",
    "- `df.reset_index(drop=True, inplace=True)` – Resets the index after cleaning.  \n",
    "\n",
    "### Data Exploration Functions  \n",
    "\n",
    "To better understand the dataset, use these **pandas** functions:  \n",
    "\n",
    "- `df.shape` – Returns the number of rows and columns in the dataset.  \n",
    "- `df.nunique()` – Displays the number of unique values in each column.  \n",
    "- `df['column_name'].unique()` – Returns unique values in a specific column.  \n",
    "\n",
    "**Example Usage in Pandas:**  \n",
    "```python\n",
    "import pandas as pd\n",
    "\n",
    "# Load dataset\n",
    "df = pd.read_csv(\"your_file.csv\")\n",
    "\n",
    "# Drop missing values\n",
    "df_cleaned = df.dropna()\n",
    "\n",
    "# Remove duplicate rows\n",
    "df_cleaned = df_cleaned.drop_duplicates()\n",
    "\n",
    "# Convert 'timestamp' column to datetime format\n",
    "df_cleaned['timestamp'] = pd.to_datetime(df_cleaned['timestamp'])\n",
    "\n",
    "# Display dataset shape\n",
    "print(\"Dataset shape:\", df_cleaned.shape)\n",
    "\n",
    "# Display number of unique values in each column\n",
    "print(\"Unique values per column:\\n\", df_cleaned.nunique())\n",
    "\n",
    "# Display unique movie IDs\n",
    "print(\"Unique movie IDs:\", df_cleaned['movie_id'].unique()[:10])  # Show first 10 unique movie IDs\n"
   ]
  },
  {
   "cell_type": "markdown",
   "metadata": {
    "id": "4cwmLON4EItA"
   },
   "source": [
    "**Note:** The functions mentioned above are some of the widely used **pandas** functions for data cleaning and exploration. However, it is not necessary that all of these functions will be required in the exercises below. Use them as needed based on the dataset and the specific tasks."
   ]
  },
  {
   "cell_type": "markdown",
   "metadata": {
    "id": "Tn0bLOSACxMP"
   },
   "source": [
    "**Convert Timestamps into Readable dates.**"
   ]
  },
  {
   "cell_type": "code",
   "execution_count": 16,
   "metadata": {
    "id": "9MwnDxeeCf8b"
   },
   "outputs": [],
   "source": [
    "# ratings\n",
    "# Convert the 'timestamp' column in the ratings DataFrame to datetime format\n",
    "ratings['timestamp']= pd.to_datetime(ratings['timestamp'])"
   ]
  },
  {
   "cell_type": "code",
   "execution_count": 17,
   "metadata": {},
   "outputs": [
    {
     "data": {
      "text/html": [
       "<div>\n",
       "<style scoped>\n",
       "    .dataframe tbody tr th:only-of-type {\n",
       "        vertical-align: middle;\n",
       "    }\n",
       "\n",
       "    .dataframe tbody tr th {\n",
       "        vertical-align: top;\n",
       "    }\n",
       "\n",
       "    .dataframe thead th {\n",
       "        text-align: right;\n",
       "    }\n",
       "</style>\n",
       "<table border=\"1\" class=\"dataframe\">\n",
       "  <thead>\n",
       "    <tr style=\"text-align: right;\">\n",
       "      <th></th>\n",
       "      <th>user_id</th>\n",
       "      <th>movie_id</th>\n",
       "      <th>rating</th>\n",
       "      <th>timestamp</th>\n",
       "    </tr>\n",
       "  </thead>\n",
       "  <tbody>\n",
       "    <tr>\n",
       "      <th>0</th>\n",
       "      <td>196</td>\n",
       "      <td>242</td>\n",
       "      <td>3</td>\n",
       "      <td>1970-01-01 00:00:00.881250949</td>\n",
       "    </tr>\n",
       "    <tr>\n",
       "      <th>1</th>\n",
       "      <td>186</td>\n",
       "      <td>302</td>\n",
       "      <td>3</td>\n",
       "      <td>1970-01-01 00:00:00.891717742</td>\n",
       "    </tr>\n",
       "    <tr>\n",
       "      <th>2</th>\n",
       "      <td>22</td>\n",
       "      <td>377</td>\n",
       "      <td>1</td>\n",
       "      <td>1970-01-01 00:00:00.878887116</td>\n",
       "    </tr>\n",
       "    <tr>\n",
       "      <th>3</th>\n",
       "      <td>244</td>\n",
       "      <td>51</td>\n",
       "      <td>2</td>\n",
       "      <td>1970-01-01 00:00:00.880606923</td>\n",
       "    </tr>\n",
       "    <tr>\n",
       "      <th>4</th>\n",
       "      <td>166</td>\n",
       "      <td>346</td>\n",
       "      <td>1</td>\n",
       "      <td>1970-01-01 00:00:00.886397596</td>\n",
       "    </tr>\n",
       "  </tbody>\n",
       "</table>\n",
       "</div>"
      ],
      "text/plain": [
       "   user_id  movie_id  rating                     timestamp\n",
       "0      196       242       3 1970-01-01 00:00:00.881250949\n",
       "1      186       302       3 1970-01-01 00:00:00.891717742\n",
       "2       22       377       1 1970-01-01 00:00:00.878887116\n",
       "3      244        51       2 1970-01-01 00:00:00.880606923\n",
       "4      166       346       1 1970-01-01 00:00:00.886397596"
      ]
     },
     "execution_count": 17,
     "metadata": {},
     "output_type": "execute_result"
    }
   ],
   "source": [
    "# Display the first 5 rows to verify timestamp conversion\n",
    "ratings.head()"
   ]
  },
  {
   "cell_type": "markdown",
   "metadata": {
    "id": "oKJB0a9CE0Z4"
   },
   "source": [
    "**Check for Missing Values**"
   ]
  },
  {
   "cell_type": "code",
   "execution_count": 18,
   "metadata": {
    "id": "iYf4NM47DL7q"
   },
   "outputs": [
    {
     "name": "stdout",
     "output_type": "stream",
     "text": [
      "Missing values in Ratings dataset:\n",
      "user_id      0\n",
      "movie_id     0\n",
      "rating       0\n",
      "timestamp    0\n",
      "dtype: int64\n"
     ]
    }
   ],
   "source": [
    "# ratings\n",
    "print(\"Missing values in Ratings dataset:\")\n",
    "print(ratings.isnull().sum())  # Displays the count of null values per column"
   ]
  },
  {
   "cell_type": "code",
   "execution_count": 19,
   "metadata": {
    "id": "hgM78fNaFH2q"
   },
   "outputs": [
    {
     "name": "stdout",
     "output_type": "stream",
     "text": [
      "Missing values in Movies dataset:\n",
      "movie_id        0\n",
      "title           0\n",
      "release_date    1\n",
      "dtype: int64\n"
     ]
    }
   ],
   "source": [
    "# movies\n",
    "print(\"Missing values in Movies dataset:\")\n",
    "print(movies.isnull().sum())"
   ]
  },
  {
   "cell_type": "code",
   "execution_count": 20,
   "metadata": {},
   "outputs": [],
   "source": [
    "# Drop rows in the movies DataFrame that have missing values\n",
    "movies = movies.dropna()"
   ]
  },
  {
   "cell_type": "code",
   "execution_count": 21,
   "metadata": {},
   "outputs": [
    {
     "name": "stdout",
     "output_type": "stream",
     "text": [
      "Missing values in Movies dataset:\n",
      "movie_id        0\n",
      "title           0\n",
      "release_date    0\n",
      "dtype: int64\n"
     ]
    }
   ],
   "source": [
    "# Confirm that all missing values are removed from the movies dataset\n",
    "print(\"Missing values in Movies dataset:\")\n",
    "print(movies.isnull().sum())"
   ]
  },
  {
   "cell_type": "code",
   "execution_count": 22,
   "metadata": {
    "id": "jE8J_cajFA5n"
   },
   "outputs": [
    {
     "name": "stdout",
     "output_type": "stream",
     "text": [
      "Missing values in Users dataset:\n",
      "user_id       0\n",
      "age           0\n",
      "gender        0\n",
      "occupation    0\n",
      "dtype: int64\n"
     ]
    }
   ],
   "source": [
    "# users\n",
    "print(\"Missing values in Users dataset:\")\n",
    "print(users.isnull().sum())"
   ]
  },
  {
   "cell_type": "markdown",
   "metadata": {},
   "source": [
    "### Basic Dataset Statistics"
   ]
  },
  {
   "cell_type": "markdown",
   "metadata": {},
   "source": [
    "####  Display total number of unique users"
   ]
  },
  {
   "cell_type": "code",
   "execution_count": 23,
   "metadata": {},
   "outputs": [
    {
     "name": "stdout",
     "output_type": "stream",
     "text": [
      "Total Users: 943\n",
      "Total Movies: 1681\n",
      "Total Ratings: 100000\n"
     ]
    }
   ],
   "source": [
    "print(f\"Total Users: {users['user_id'].nunique()}\")\n",
    "print(f\"Total Movies: {movies['movie_id'].nunique()}\")\n",
    "print(f\"Total Ratings: {ratings.shape[0]}\")"
   ]
  },
  {
   "cell_type": "markdown",
   "metadata": {
    "id": "1WviFe7iFRoQ"
   },
   "source": [
    "**Print the total number of users, movies, and ratings.**"
   ]
  },
  {
   "cell_type": "code",
   "execution_count": 24,
   "metadata": {
    "id": "eR_QgS9aFTPb"
   },
   "outputs": [
    {
     "name": "stdout",
     "output_type": "stream",
     "text": [
      "Total Users: 943\n",
      "Total Movies: 1681\n",
      "Total Ratings: 100000\n"
     ]
    }
   ],
   "source": [
    "print(f\"Total Users: { len(users) }\")\n",
    "print(f\"Total Movies: { len(movies) }\")\n",
    "print(f\"Total Ratings: { len(ratings) }\")"
   ]
  },
  {
   "cell_type": "markdown",
   "metadata": {},
   "source": [
    "#### Summary Statistics"
   ]
  },
  {
   "cell_type": "code",
   "execution_count": 25,
   "metadata": {},
   "outputs": [
    {
     "data": {
      "text/html": [
       "<div>\n",
       "<style scoped>\n",
       "    .dataframe tbody tr th:only-of-type {\n",
       "        vertical-align: middle;\n",
       "    }\n",
       "\n",
       "    .dataframe tbody tr th {\n",
       "        vertical-align: top;\n",
       "    }\n",
       "\n",
       "    .dataframe thead th {\n",
       "        text-align: right;\n",
       "    }\n",
       "</style>\n",
       "<table border=\"1\" class=\"dataframe\">\n",
       "  <thead>\n",
       "    <tr style=\"text-align: right;\">\n",
       "      <th></th>\n",
       "      <th>user_id</th>\n",
       "      <th>movie_id</th>\n",
       "      <th>rating</th>\n",
       "      <th>timestamp</th>\n",
       "    </tr>\n",
       "  </thead>\n",
       "  <tbody>\n",
       "    <tr>\n",
       "      <th>count</th>\n",
       "      <td>100000.00000</td>\n",
       "      <td>100000.000000</td>\n",
       "      <td>100000.000000</td>\n",
       "      <td>100000</td>\n",
       "    </tr>\n",
       "    <tr>\n",
       "      <th>mean</th>\n",
       "      <td>462.48475</td>\n",
       "      <td>425.530130</td>\n",
       "      <td>3.529860</td>\n",
       "      <td>1970-01-01 00:00:00.883528851</td>\n",
       "    </tr>\n",
       "    <tr>\n",
       "      <th>min</th>\n",
       "      <td>1.00000</td>\n",
       "      <td>1.000000</td>\n",
       "      <td>1.000000</td>\n",
       "      <td>1970-01-01 00:00:00.874724710</td>\n",
       "    </tr>\n",
       "    <tr>\n",
       "      <th>25%</th>\n",
       "      <td>254.00000</td>\n",
       "      <td>175.000000</td>\n",
       "      <td>3.000000</td>\n",
       "      <td>1970-01-01 00:00:00.879448709</td>\n",
       "    </tr>\n",
       "    <tr>\n",
       "      <th>50%</th>\n",
       "      <td>447.00000</td>\n",
       "      <td>322.000000</td>\n",
       "      <td>4.000000</td>\n",
       "      <td>1970-01-01 00:00:00.882826944</td>\n",
       "    </tr>\n",
       "    <tr>\n",
       "      <th>75%</th>\n",
       "      <td>682.00000</td>\n",
       "      <td>631.000000</td>\n",
       "      <td>4.000000</td>\n",
       "      <td>1970-01-01 00:00:00.888259984</td>\n",
       "    </tr>\n",
       "    <tr>\n",
       "      <th>max</th>\n",
       "      <td>943.00000</td>\n",
       "      <td>1682.000000</td>\n",
       "      <td>5.000000</td>\n",
       "      <td>1970-01-01 00:00:00.893286638</td>\n",
       "    </tr>\n",
       "    <tr>\n",
       "      <th>std</th>\n",
       "      <td>266.61442</td>\n",
       "      <td>330.798356</td>\n",
       "      <td>1.125674</td>\n",
       "      <td>NaN</td>\n",
       "    </tr>\n",
       "  </tbody>\n",
       "</table>\n",
       "</div>"
      ],
      "text/plain": [
       "            user_id       movie_id         rating  \\\n",
       "count  100000.00000  100000.000000  100000.000000   \n",
       "mean      462.48475     425.530130       3.529860   \n",
       "min         1.00000       1.000000       1.000000   \n",
       "25%       254.00000     175.000000       3.000000   \n",
       "50%       447.00000     322.000000       4.000000   \n",
       "75%       682.00000     631.000000       4.000000   \n",
       "max       943.00000    1682.000000       5.000000   \n",
       "std       266.61442     330.798356       1.125674   \n",
       "\n",
       "                           timestamp  \n",
       "count                         100000  \n",
       "mean   1970-01-01 00:00:00.883528851  \n",
       "min    1970-01-01 00:00:00.874724710  \n",
       "25%    1970-01-01 00:00:00.879448709  \n",
       "50%    1970-01-01 00:00:00.882826944  \n",
       "75%    1970-01-01 00:00:00.888259984  \n",
       "max    1970-01-01 00:00:00.893286638  \n",
       "std                              NaN  "
      ]
     },
     "execution_count": 25,
     "metadata": {},
     "output_type": "execute_result"
    }
   ],
   "source": [
    "# Generate summary statistics for the ratings dataset\n",
    "# Includes count, mean, std, min, 25%, 50%, 75%, and max for each numeric column\n",
    "ratings.describe()"
   ]
  },
  {
   "cell_type": "code",
   "execution_count": 26,
   "metadata": {},
   "outputs": [
    {
     "data": {
      "text/html": [
       "<div>\n",
       "<style scoped>\n",
       "    .dataframe tbody tr th:only-of-type {\n",
       "        vertical-align: middle;\n",
       "    }\n",
       "\n",
       "    .dataframe tbody tr th {\n",
       "        vertical-align: top;\n",
       "    }\n",
       "\n",
       "    .dataframe thead th {\n",
       "        text-align: right;\n",
       "    }\n",
       "</style>\n",
       "<table border=\"1\" class=\"dataframe\">\n",
       "  <thead>\n",
       "    <tr style=\"text-align: right;\">\n",
       "      <th></th>\n",
       "      <th>movie_id</th>\n",
       "    </tr>\n",
       "  </thead>\n",
       "  <tbody>\n",
       "    <tr>\n",
       "      <th>count</th>\n",
       "      <td>1681.000000</td>\n",
       "    </tr>\n",
       "    <tr>\n",
       "      <th>mean</th>\n",
       "      <td>841.841761</td>\n",
       "    </tr>\n",
       "    <tr>\n",
       "      <th>std</th>\n",
       "      <td>485.638077</td>\n",
       "    </tr>\n",
       "    <tr>\n",
       "      <th>min</th>\n",
       "      <td>1.000000</td>\n",
       "    </tr>\n",
       "    <tr>\n",
       "      <th>25%</th>\n",
       "      <td>422.000000</td>\n",
       "    </tr>\n",
       "    <tr>\n",
       "      <th>50%</th>\n",
       "      <td>842.000000</td>\n",
       "    </tr>\n",
       "    <tr>\n",
       "      <th>75%</th>\n",
       "      <td>1262.000000</td>\n",
       "    </tr>\n",
       "    <tr>\n",
       "      <th>max</th>\n",
       "      <td>1682.000000</td>\n",
       "    </tr>\n",
       "  </tbody>\n",
       "</table>\n",
       "</div>"
      ],
      "text/plain": [
       "          movie_id\n",
       "count  1681.000000\n",
       "mean    841.841761\n",
       "std     485.638077\n",
       "min       1.000000\n",
       "25%     422.000000\n",
       "50%     842.000000\n",
       "75%    1262.000000\n",
       "max    1682.000000"
      ]
     },
     "execution_count": 26,
     "metadata": {},
     "output_type": "execute_result"
    }
   ],
   "source": [
    "# Generate summary statistics for the movies dataset\n",
    "# Only the movie_id column is numeric\n",
    "movies.describe()"
   ]
  },
  {
   "cell_type": "code",
   "execution_count": 27,
   "metadata": {},
   "outputs": [
    {
     "data": {
      "text/html": [
       "<div>\n",
       "<style scoped>\n",
       "    .dataframe tbody tr th:only-of-type {\n",
       "        vertical-align: middle;\n",
       "    }\n",
       "\n",
       "    .dataframe tbody tr th {\n",
       "        vertical-align: top;\n",
       "    }\n",
       "\n",
       "    .dataframe thead th {\n",
       "        text-align: right;\n",
       "    }\n",
       "</style>\n",
       "<table border=\"1\" class=\"dataframe\">\n",
       "  <thead>\n",
       "    <tr style=\"text-align: right;\">\n",
       "      <th></th>\n",
       "      <th>user_id</th>\n",
       "      <th>age</th>\n",
       "    </tr>\n",
       "  </thead>\n",
       "  <tbody>\n",
       "    <tr>\n",
       "      <th>count</th>\n",
       "      <td>943.000000</td>\n",
       "      <td>943.000000</td>\n",
       "    </tr>\n",
       "    <tr>\n",
       "      <th>mean</th>\n",
       "      <td>472.000000</td>\n",
       "      <td>34.051962</td>\n",
       "    </tr>\n",
       "    <tr>\n",
       "      <th>std</th>\n",
       "      <td>272.364951</td>\n",
       "      <td>12.192740</td>\n",
       "    </tr>\n",
       "    <tr>\n",
       "      <th>min</th>\n",
       "      <td>1.000000</td>\n",
       "      <td>7.000000</td>\n",
       "    </tr>\n",
       "    <tr>\n",
       "      <th>25%</th>\n",
       "      <td>236.500000</td>\n",
       "      <td>25.000000</td>\n",
       "    </tr>\n",
       "    <tr>\n",
       "      <th>50%</th>\n",
       "      <td>472.000000</td>\n",
       "      <td>31.000000</td>\n",
       "    </tr>\n",
       "    <tr>\n",
       "      <th>75%</th>\n",
       "      <td>707.500000</td>\n",
       "      <td>43.000000</td>\n",
       "    </tr>\n",
       "    <tr>\n",
       "      <th>max</th>\n",
       "      <td>943.000000</td>\n",
       "      <td>73.000000</td>\n",
       "    </tr>\n",
       "  </tbody>\n",
       "</table>\n",
       "</div>"
      ],
      "text/plain": [
       "          user_id         age\n",
       "count  943.000000  943.000000\n",
       "mean   472.000000   34.051962\n",
       "std    272.364951   12.192740\n",
       "min      1.000000    7.000000\n",
       "25%    236.500000   25.000000\n",
       "50%    472.000000   31.000000\n",
       "75%    707.500000   43.000000\n",
       "max    943.000000   73.000000"
      ]
     },
     "execution_count": 27,
     "metadata": {},
     "output_type": "execute_result"
    }
   ],
   "source": [
    "# Generate summary statistics for the users dataset\n",
    "# Covers user_id and age\n",
    "users.describe()"
   ]
  },
  {
   "cell_type": "markdown",
   "metadata": {
    "id": "NjxACjUgFwsk"
   },
   "source": [
    "## **Part 2: Collaborative Filtering-Based Recommendation**"
   ]
  },
  {
   "cell_type": "markdown",
   "metadata": {
    "id": "AyeSaLpRGYuC"
   },
   "source": [
    "### **Create a User-Item Matrix**"
   ]
  },
  {
   "cell_type": "markdown",
   "metadata": {
    "id": "3tKsv-7XHRq2"
   },
   "source": [
    "#### Instructions for Creating a User-Movie Rating Matrix"
   ]
  },
  {
   "cell_type": "markdown",
   "metadata": {
    "id": "lLayr0YbH4tB"
   },
   "source": [
    "In this exercise, you will create a user-movie rating matrix using **pandas**. This matrix will represent the ratings that users have given to different movies.\n",
    "\n",
    "1. **Dataset Overview**:  \n",
    "   The dataset has already been loaded. It includes the following key columns:\n",
    "   - `user_id`: The ID of the user.\n",
    "   - `movie_id`: The ID of the movie.\n",
    "   - `ratings`: The rating the user gave to the movie.\n",
    "\n",
    "2. **Create the User-Movie Rating Matrix**:  \n",
    "   Use the **`pivot()`** function in **pandas** to reshape the data. Your goal is to create a matrix where:\n",
    "   - Each **row** represents a **user**.\n",
    "   - Each **column** represents a **movie**.\n",
    "   - Each **cell** contains the **rating** that the user has given to the movie.\n",
    "\n",
    "   Specify the following parameters for the `pivot()` function:\n",
    "   - **`index`**: The `user_id` column (this will define the rows).\n",
    "   - **`columns`**: The `movie_id` column (this will define the columns).\n",
    "   - **`values`**: The `rating` column (this will fill the matrix with ratings).\n",
    "\n",
    "3. **Inspect the Matrix**:  \n",
    "   After creating the matrix, examine the first few rows of the resulting matrix to ensure it has been constructed correctly.\n",
    "\n",
    "4. **Handle Missing Values**:  \n",
    "   It's likely that some users have not rated every movie, resulting in `NaN` values in the matrix. You will need to handle these missing values. Consider the following options:\n",
    "   - **Fill with 0**: If you wish to represent missing ratings as zeros (indicating no rating).\n",
    "   - **Fill with the average rating**: Alternatively, replace missing values with the average rating for each movie."
   ]
  },
  {
   "cell_type": "markdown",
   "metadata": {
    "id": "E_cdPXYeaD-l"
   },
   "source": [
    "**Create the user-movie rating matrix using the `pivot()` function.**"
   ]
  },
  {
   "cell_type": "code",
   "execution_count": 28,
   "metadata": {
    "id": "Ie858yKEUSfc"
   },
   "outputs": [],
   "source": [
    "user_movie_matrix = ratings.pivot(index='user_id', columns='movie_id', values='rating')"
   ]
  },
  {
   "cell_type": "markdown",
   "metadata": {
    "id": "tyb3h9FmaVGH"
   },
   "source": [
    "**Display the matrix to verify the transformation.**"
   ]
  },
  {
   "cell_type": "code",
   "execution_count": 29,
   "metadata": {
    "id": "16abaOrXabN_"
   },
   "outputs": [
    {
     "data": {
      "text/html": [
       "<div>\n",
       "<style scoped>\n",
       "    .dataframe tbody tr th:only-of-type {\n",
       "        vertical-align: middle;\n",
       "    }\n",
       "\n",
       "    .dataframe tbody tr th {\n",
       "        vertical-align: top;\n",
       "    }\n",
       "\n",
       "    .dataframe thead th {\n",
       "        text-align: right;\n",
       "    }\n",
       "</style>\n",
       "<table border=\"1\" class=\"dataframe\">\n",
       "  <thead>\n",
       "    <tr style=\"text-align: right;\">\n",
       "      <th>movie_id</th>\n",
       "      <th>1</th>\n",
       "      <th>2</th>\n",
       "      <th>3</th>\n",
       "      <th>4</th>\n",
       "      <th>5</th>\n",
       "      <th>6</th>\n",
       "      <th>7</th>\n",
       "      <th>8</th>\n",
       "      <th>9</th>\n",
       "      <th>10</th>\n",
       "      <th>...</th>\n",
       "      <th>1673</th>\n",
       "      <th>1674</th>\n",
       "      <th>1675</th>\n",
       "      <th>1676</th>\n",
       "      <th>1677</th>\n",
       "      <th>1678</th>\n",
       "      <th>1679</th>\n",
       "      <th>1680</th>\n",
       "      <th>1681</th>\n",
       "      <th>1682</th>\n",
       "    </tr>\n",
       "    <tr>\n",
       "      <th>user_id</th>\n",
       "      <th></th>\n",
       "      <th></th>\n",
       "      <th></th>\n",
       "      <th></th>\n",
       "      <th></th>\n",
       "      <th></th>\n",
       "      <th></th>\n",
       "      <th></th>\n",
       "      <th></th>\n",
       "      <th></th>\n",
       "      <th></th>\n",
       "      <th></th>\n",
       "      <th></th>\n",
       "      <th></th>\n",
       "      <th></th>\n",
       "      <th></th>\n",
       "      <th></th>\n",
       "      <th></th>\n",
       "      <th></th>\n",
       "      <th></th>\n",
       "      <th></th>\n",
       "    </tr>\n",
       "  </thead>\n",
       "  <tbody>\n",
       "    <tr>\n",
       "      <th>1</th>\n",
       "      <td>5.0</td>\n",
       "      <td>3.0</td>\n",
       "      <td>4.0</td>\n",
       "      <td>3.0</td>\n",
       "      <td>3.0</td>\n",
       "      <td>5.0</td>\n",
       "      <td>4.0</td>\n",
       "      <td>1.0</td>\n",
       "      <td>5.0</td>\n",
       "      <td>3.0</td>\n",
       "      <td>...</td>\n",
       "      <td>NaN</td>\n",
       "      <td>NaN</td>\n",
       "      <td>NaN</td>\n",
       "      <td>NaN</td>\n",
       "      <td>NaN</td>\n",
       "      <td>NaN</td>\n",
       "      <td>NaN</td>\n",
       "      <td>NaN</td>\n",
       "      <td>NaN</td>\n",
       "      <td>NaN</td>\n",
       "    </tr>\n",
       "    <tr>\n",
       "      <th>2</th>\n",
       "      <td>4.0</td>\n",
       "      <td>NaN</td>\n",
       "      <td>NaN</td>\n",
       "      <td>NaN</td>\n",
       "      <td>NaN</td>\n",
       "      <td>NaN</td>\n",
       "      <td>NaN</td>\n",
       "      <td>NaN</td>\n",
       "      <td>NaN</td>\n",
       "      <td>2.0</td>\n",
       "      <td>...</td>\n",
       "      <td>NaN</td>\n",
       "      <td>NaN</td>\n",
       "      <td>NaN</td>\n",
       "      <td>NaN</td>\n",
       "      <td>NaN</td>\n",
       "      <td>NaN</td>\n",
       "      <td>NaN</td>\n",
       "      <td>NaN</td>\n",
       "      <td>NaN</td>\n",
       "      <td>NaN</td>\n",
       "    </tr>\n",
       "    <tr>\n",
       "      <th>3</th>\n",
       "      <td>NaN</td>\n",
       "      <td>NaN</td>\n",
       "      <td>NaN</td>\n",
       "      <td>NaN</td>\n",
       "      <td>NaN</td>\n",
       "      <td>NaN</td>\n",
       "      <td>NaN</td>\n",
       "      <td>NaN</td>\n",
       "      <td>NaN</td>\n",
       "      <td>NaN</td>\n",
       "      <td>...</td>\n",
       "      <td>NaN</td>\n",
       "      <td>NaN</td>\n",
       "      <td>NaN</td>\n",
       "      <td>NaN</td>\n",
       "      <td>NaN</td>\n",
       "      <td>NaN</td>\n",
       "      <td>NaN</td>\n",
       "      <td>NaN</td>\n",
       "      <td>NaN</td>\n",
       "      <td>NaN</td>\n",
       "    </tr>\n",
       "    <tr>\n",
       "      <th>4</th>\n",
       "      <td>NaN</td>\n",
       "      <td>NaN</td>\n",
       "      <td>NaN</td>\n",
       "      <td>NaN</td>\n",
       "      <td>NaN</td>\n",
       "      <td>NaN</td>\n",
       "      <td>NaN</td>\n",
       "      <td>NaN</td>\n",
       "      <td>NaN</td>\n",
       "      <td>NaN</td>\n",
       "      <td>...</td>\n",
       "      <td>NaN</td>\n",
       "      <td>NaN</td>\n",
       "      <td>NaN</td>\n",
       "      <td>NaN</td>\n",
       "      <td>NaN</td>\n",
       "      <td>NaN</td>\n",
       "      <td>NaN</td>\n",
       "      <td>NaN</td>\n",
       "      <td>NaN</td>\n",
       "      <td>NaN</td>\n",
       "    </tr>\n",
       "    <tr>\n",
       "      <th>5</th>\n",
       "      <td>4.0</td>\n",
       "      <td>3.0</td>\n",
       "      <td>NaN</td>\n",
       "      <td>NaN</td>\n",
       "      <td>NaN</td>\n",
       "      <td>NaN</td>\n",
       "      <td>NaN</td>\n",
       "      <td>NaN</td>\n",
       "      <td>NaN</td>\n",
       "      <td>NaN</td>\n",
       "      <td>...</td>\n",
       "      <td>NaN</td>\n",
       "      <td>NaN</td>\n",
       "      <td>NaN</td>\n",
       "      <td>NaN</td>\n",
       "      <td>NaN</td>\n",
       "      <td>NaN</td>\n",
       "      <td>NaN</td>\n",
       "      <td>NaN</td>\n",
       "      <td>NaN</td>\n",
       "      <td>NaN</td>\n",
       "    </tr>\n",
       "    <tr>\n",
       "      <th>...</th>\n",
       "      <td>...</td>\n",
       "      <td>...</td>\n",
       "      <td>...</td>\n",
       "      <td>...</td>\n",
       "      <td>...</td>\n",
       "      <td>...</td>\n",
       "      <td>...</td>\n",
       "      <td>...</td>\n",
       "      <td>...</td>\n",
       "      <td>...</td>\n",
       "      <td>...</td>\n",
       "      <td>...</td>\n",
       "      <td>...</td>\n",
       "      <td>...</td>\n",
       "      <td>...</td>\n",
       "      <td>...</td>\n",
       "      <td>...</td>\n",
       "      <td>...</td>\n",
       "      <td>...</td>\n",
       "      <td>...</td>\n",
       "      <td>...</td>\n",
       "    </tr>\n",
       "    <tr>\n",
       "      <th>939</th>\n",
       "      <td>NaN</td>\n",
       "      <td>NaN</td>\n",
       "      <td>NaN</td>\n",
       "      <td>NaN</td>\n",
       "      <td>NaN</td>\n",
       "      <td>NaN</td>\n",
       "      <td>NaN</td>\n",
       "      <td>NaN</td>\n",
       "      <td>5.0</td>\n",
       "      <td>NaN</td>\n",
       "      <td>...</td>\n",
       "      <td>NaN</td>\n",
       "      <td>NaN</td>\n",
       "      <td>NaN</td>\n",
       "      <td>NaN</td>\n",
       "      <td>NaN</td>\n",
       "      <td>NaN</td>\n",
       "      <td>NaN</td>\n",
       "      <td>NaN</td>\n",
       "      <td>NaN</td>\n",
       "      <td>NaN</td>\n",
       "    </tr>\n",
       "    <tr>\n",
       "      <th>940</th>\n",
       "      <td>NaN</td>\n",
       "      <td>NaN</td>\n",
       "      <td>NaN</td>\n",
       "      <td>2.0</td>\n",
       "      <td>NaN</td>\n",
       "      <td>NaN</td>\n",
       "      <td>4.0</td>\n",
       "      <td>5.0</td>\n",
       "      <td>3.0</td>\n",
       "      <td>NaN</td>\n",
       "      <td>...</td>\n",
       "      <td>NaN</td>\n",
       "      <td>NaN</td>\n",
       "      <td>NaN</td>\n",
       "      <td>NaN</td>\n",
       "      <td>NaN</td>\n",
       "      <td>NaN</td>\n",
       "      <td>NaN</td>\n",
       "      <td>NaN</td>\n",
       "      <td>NaN</td>\n",
       "      <td>NaN</td>\n",
       "    </tr>\n",
       "    <tr>\n",
       "      <th>941</th>\n",
       "      <td>5.0</td>\n",
       "      <td>NaN</td>\n",
       "      <td>NaN</td>\n",
       "      <td>NaN</td>\n",
       "      <td>NaN</td>\n",
       "      <td>NaN</td>\n",
       "      <td>4.0</td>\n",
       "      <td>NaN</td>\n",
       "      <td>NaN</td>\n",
       "      <td>NaN</td>\n",
       "      <td>...</td>\n",
       "      <td>NaN</td>\n",
       "      <td>NaN</td>\n",
       "      <td>NaN</td>\n",
       "      <td>NaN</td>\n",
       "      <td>NaN</td>\n",
       "      <td>NaN</td>\n",
       "      <td>NaN</td>\n",
       "      <td>NaN</td>\n",
       "      <td>NaN</td>\n",
       "      <td>NaN</td>\n",
       "    </tr>\n",
       "    <tr>\n",
       "      <th>942</th>\n",
       "      <td>NaN</td>\n",
       "      <td>NaN</td>\n",
       "      <td>NaN</td>\n",
       "      <td>NaN</td>\n",
       "      <td>NaN</td>\n",
       "      <td>NaN</td>\n",
       "      <td>NaN</td>\n",
       "      <td>NaN</td>\n",
       "      <td>NaN</td>\n",
       "      <td>NaN</td>\n",
       "      <td>...</td>\n",
       "      <td>NaN</td>\n",
       "      <td>NaN</td>\n",
       "      <td>NaN</td>\n",
       "      <td>NaN</td>\n",
       "      <td>NaN</td>\n",
       "      <td>NaN</td>\n",
       "      <td>NaN</td>\n",
       "      <td>NaN</td>\n",
       "      <td>NaN</td>\n",
       "      <td>NaN</td>\n",
       "    </tr>\n",
       "    <tr>\n",
       "      <th>943</th>\n",
       "      <td>NaN</td>\n",
       "      <td>5.0</td>\n",
       "      <td>NaN</td>\n",
       "      <td>NaN</td>\n",
       "      <td>NaN</td>\n",
       "      <td>NaN</td>\n",
       "      <td>NaN</td>\n",
       "      <td>NaN</td>\n",
       "      <td>3.0</td>\n",
       "      <td>NaN</td>\n",
       "      <td>...</td>\n",
       "      <td>NaN</td>\n",
       "      <td>NaN</td>\n",
       "      <td>NaN</td>\n",
       "      <td>NaN</td>\n",
       "      <td>NaN</td>\n",
       "      <td>NaN</td>\n",
       "      <td>NaN</td>\n",
       "      <td>NaN</td>\n",
       "      <td>NaN</td>\n",
       "      <td>NaN</td>\n",
       "    </tr>\n",
       "  </tbody>\n",
       "</table>\n",
       "<p>943 rows × 1682 columns</p>\n",
       "</div>"
      ],
      "text/plain": [
       "movie_id  1     2     3     4     5     6     7     8     9     10    ...  \\\n",
       "user_id                                                               ...   \n",
       "1          5.0   3.0   4.0   3.0   3.0   5.0   4.0   1.0   5.0   3.0  ...   \n",
       "2          4.0   NaN   NaN   NaN   NaN   NaN   NaN   NaN   NaN   2.0  ...   \n",
       "3          NaN   NaN   NaN   NaN   NaN   NaN   NaN   NaN   NaN   NaN  ...   \n",
       "4          NaN   NaN   NaN   NaN   NaN   NaN   NaN   NaN   NaN   NaN  ...   \n",
       "5          4.0   3.0   NaN   NaN   NaN   NaN   NaN   NaN   NaN   NaN  ...   \n",
       "...        ...   ...   ...   ...   ...   ...   ...   ...   ...   ...  ...   \n",
       "939        NaN   NaN   NaN   NaN   NaN   NaN   NaN   NaN   5.0   NaN  ...   \n",
       "940        NaN   NaN   NaN   2.0   NaN   NaN   4.0   5.0   3.0   NaN  ...   \n",
       "941        5.0   NaN   NaN   NaN   NaN   NaN   4.0   NaN   NaN   NaN  ...   \n",
       "942        NaN   NaN   NaN   NaN   NaN   NaN   NaN   NaN   NaN   NaN  ...   \n",
       "943        NaN   5.0   NaN   NaN   NaN   NaN   NaN   NaN   3.0   NaN  ...   \n",
       "\n",
       "movie_id  1673  1674  1675  1676  1677  1678  1679  1680  1681  1682  \n",
       "user_id                                                               \n",
       "1          NaN   NaN   NaN   NaN   NaN   NaN   NaN   NaN   NaN   NaN  \n",
       "2          NaN   NaN   NaN   NaN   NaN   NaN   NaN   NaN   NaN   NaN  \n",
       "3          NaN   NaN   NaN   NaN   NaN   NaN   NaN   NaN   NaN   NaN  \n",
       "4          NaN   NaN   NaN   NaN   NaN   NaN   NaN   NaN   NaN   NaN  \n",
       "5          NaN   NaN   NaN   NaN   NaN   NaN   NaN   NaN   NaN   NaN  \n",
       "...        ...   ...   ...   ...   ...   ...   ...   ...   ...   ...  \n",
       "939        NaN   NaN   NaN   NaN   NaN   NaN   NaN   NaN   NaN   NaN  \n",
       "940        NaN   NaN   NaN   NaN   NaN   NaN   NaN   NaN   NaN   NaN  \n",
       "941        NaN   NaN   NaN   NaN   NaN   NaN   NaN   NaN   NaN   NaN  \n",
       "942        NaN   NaN   NaN   NaN   NaN   NaN   NaN   NaN   NaN   NaN  \n",
       "943        NaN   NaN   NaN   NaN   NaN   NaN   NaN   NaN   NaN   NaN  \n",
       "\n",
       "[943 rows x 1682 columns]"
      ]
     },
     "execution_count": 29,
     "metadata": {},
     "output_type": "execute_result"
    }
   ],
   "source": [
    "user_movie_matrix"
   ]
  },
  {
   "cell_type": "markdown",
   "metadata": {
    "id": "fOXp00QSbtHk"
   },
   "source": [
    "### **User-Based Collaborative Filtering Recommender System**"
   ]
  },
  {
   "cell_type": "markdown",
   "metadata": {
    "id": "FwKBZk5Sc7YA"
   },
   "source": [
    "#### **Objective**\n",
    "In this task, you will implement a **user-based collaborative filtering** movie recommendation system using the **Movie dataset**. The goal is to recommend movies to a user based on the preferences of similar users."
   ]
  },
  {
   "cell_type": "markdown",
   "metadata": {
    "id": "fZf-Nu2rdPHR"
   },
   "source": [
    "##### **Step 1: Import Required Libraries**\n",
    "Before starting, ensure you have the necessary libraries installed. Use the following imports:\n",
    "\n",
    "```python\n",
    "import pandas as pd  # For handling data\n",
    "import numpy as np   # For numerical computations\n",
    "from sklearn.metrics.pairwise import cosine_similarity  # For computing user similarity\n",
    "```"
   ]
  },
  {
   "cell_type": "markdown",
   "metadata": {
    "id": "qzJNshMbdwyR"
   },
   "source": [
    "##### **Step 2: Compute User-User Similarity**\n",
    "- We will use **cosine similarity** to measure how similar each pair of users is based on their movie ratings.\n",
    "- Since `cosine_similarity` does not handle missing values (NaN), replace them with `0` before computation."
   ]
  },
  {
   "cell_type": "markdown",
   "metadata": {
    "id": "pkO_XtPqd4Sw"
   },
   "source": [
    "##### **Instructions:**\n",
    "1. Fill missing values with `0` using `.fillna(0)`.\n",
    "2. Compute similarity using `cosine_similarity()`.\n",
    "3. Convert the result into a **Pandas DataFrame**, with users as both row and column labels.\n",
    "\n",
    "##### **Hint:**  \n",
    "You can achieve this using the following approach:\n",
    "\n",
    "```python\n",
    "user_similarity = cosine_similarity(user_movie_matrix.fillna(0))\n",
    "user_sim_df = pd.DataFrame(user_similarity, index=user_movie_matrix.index, columns=user_movie_matrix.index)\n",
    "```"
   ]
  },
  {
   "cell_type": "markdown",
   "metadata": {
    "id": "NtmluaSGeBE-"
   },
   "source": [
    "##### **Step 3: Implement the Recommendation Function**\n",
    "Now, implement the function `recommend_movies_for_user(user_id, num=5)` to recommend movies for a given user.\n",
    "\n",
    "##### **Function Inputs:**\n",
    "- `user_id`: The target user for whom we need recommendations.\n",
    "- `num`: The number of movies to recommend (default is 5).\n",
    "\n",
    "##### **Function Steps:**\n",
    "1. Find **similar users**:\n",
    "   - Retrieve the similarity scores for the given `user_id`.\n",
    "   - Sort them in **descending** order (highest similarity first).\n",
    "   - Exclude the user themselves.\n",
    "   \n",
    "2. Get the **movie ratings** from these similar users.\n",
    "\n",
    "3. Compute the **average rating** for each movie based on these users' preferences.\n",
    "\n",
    "4. Sort the movies in **descending order** based on the computed average ratings.\n",
    "\n",
    "5. Retrieve the **top `num` recommended movies**.\n",
    "\n",
    "6. Map **movie IDs** to their **titles** using the `movies` DataFrame.\n",
    "\n",
    "7. Return the results as a **Pandas DataFrame** with rankings."
   ]
  },
  {
   "cell_type": "markdown",
   "metadata": {
    "id": "SgO0zd8LeGJ_"
   },
   "source": [
    "##### **Step 4: Return the Final Recommendation List**\n",
    "Your function should return a **DataFrame** structured as follows:\n",
    "\n",
    "| Ranking | Movie Name |\n",
    "|---------|-----------|\n",
    "| 1       | Movie A   |\n",
    "| 2       | Movie B   |\n",
    "| 3       | Movie C   |\n",
    "| 4       | Movie D   |\n",
    "| 5       | Movie E   |\n",
    "\n",
    "##### **Hint:** Your final DataFrame should be created like this:\n",
    "```python\n",
    "result_df = pd.DataFrame({\n",
    "    'Ranking': range(1, num+1),\n",
    "    'Movie Name': movie_names     \n",
    "})\n",
    "result_df.set_index('Ranking', inplace=True)\n",
    "```\n",
    "\n",
    "#### **Example: User-Based Collaborative Filtering**\n",
    "```python\n",
    "recommend_movies_for_user(10, num = 5)\n",
    "```\n",
    "**Output:**\n",
    "```\n",
    "| Ranking | Movie Name                     |\n",
    "|---------|--------------------------------|\n",
    "| 1       | In the Company of Men (1997)   |\n",
    "| 2       | Misérables, Les (1995)         |\n",
    "| 3       | Thin Blue Line, The (1988)     |\n",
    "| 4       | Braindead (1992)               |\n",
    "| 5       | Boys, Les (1997)               |\n"
   ]
  },
  {
   "cell_type": "code",
   "execution_count": 30,
   "metadata": {
    "id": "rbENugJ5cUpo"
   },
   "outputs": [
    {
     "ename": "ModuleNotFoundError",
     "evalue": "No module named 'sklearn'",
     "output_type": "error",
     "traceback": [
      "\u001b[0;31m---------------------------------------------------------------------------\u001b[0m",
      "\u001b[0;31mModuleNotFoundError\u001b[0m                       Traceback (most recent call last)",
      "Cell \u001b[0;32mIn[30], line 4\u001b[0m\n\u001b[1;32m      1\u001b[0m \u001b[38;5;66;03m# Code the function here\u001b[39;00m\n\u001b[1;32m      2\u001b[0m \u001b[38;5;66;03m# Import required libraries\u001b[39;00m\n\u001b[1;32m      3\u001b[0m \u001b[38;5;28;01mimport\u001b[39;00m \u001b[38;5;21;01mnumpy\u001b[39;00m \u001b[38;5;28;01mas\u001b[39;00m \u001b[38;5;21;01mnp\u001b[39;00m   \u001b[38;5;66;03m# For numerical operations\u001b[39;00m\n\u001b[0;32m----> 4\u001b[0m \u001b[38;5;28;01mfrom\u001b[39;00m \u001b[38;5;21;01msklearn\u001b[39;00m\u001b[38;5;21;01m.\u001b[39;00m\u001b[38;5;21;01mmetrics\u001b[39;00m\u001b[38;5;21;01m.\u001b[39;00m\u001b[38;5;21;01mpairwise\u001b[39;00m \u001b[38;5;28;01mimport\u001b[39;00m cosine_similarity  \u001b[38;5;66;03m# To calculate similarity between user vectors\u001b[39;00m\n",
      "\u001b[0;31mModuleNotFoundError\u001b[0m: No module named 'sklearn'"
     ]
    }
   ],
   "source": [
    "# Code the function here\n",
    "# Import required libraries\n",
    "import numpy as np   # For numerical operations\n",
    "from sklearn.metrics.pairwise import cosine_similarity  # To calculate similarity between user vectors"
   ]
  },
  {
   "cell_type": "markdown",
   "metadata": {},
   "source": [
    "###  Step 1: Compute the User-User Similarity Matrix"
   ]
  },
  {
   "cell_type": "markdown",
   "metadata": {},
   "source": [
    "Fill missing values in the user-movie rating matrix with 0 because cosine similarity requires numeric input"
   ]
  },
  {
   "cell_type": "code",
   "execution_count": null,
   "metadata": {},
   "outputs": [],
   "source": [
    "user_similarity = cosine_similarity(user_movie_matrix.fillna(0))"
   ]
  },
  {
   "cell_type": "markdown",
   "metadata": {},
   "source": [
    "Convert the resulting NumPy array into a DataFrame with user_ids as both row and column labels"
   ]
  },
  {
   "cell_type": "code",
   "execution_count": null,
   "metadata": {},
   "outputs": [],
   "source": [
    "user_sim_df = pd.DataFrame(user_similarity, index=user_movie_matrix.index, columns=user_movie_matrix.index)\n",
    "user_sim_df"
   ]
  },
  {
   "cell_type": "markdown",
   "metadata": {},
   "source": [
    "### Step 2: Define a function to generate movie recommendations for a specific user"
   ]
  },
  {
   "cell_type": "markdown",
   "metadata": {},
   "source": [
    "This function recommends movies to a given user based on similar users' preferences.\n",
    "\n",
    "    Parameters:\n",
    "    user_id (int or str): The ID of the user to recommend movies for.\n",
    "    num (int): The number of top movie recommendations to return (default is 5).\n",
    "\n",
    "    Returns:\n",
    "    DataFrame: A ranked list of recommended movie titles."
   ]
  },
  {
   "cell_type": "code",
   "execution_count": null,
   "metadata": {},
   "outputs": [],
   "source": [
    "def recommend_movies_for_user(user_id, num=5):\n",
    "    \n",
    "    # Get similarity scores of the target user with all other users\n",
    "    similar_users = user_sim_df[user_id].sort_values(ascending=False)\n",
    "    \n",
    "    #Remove the user themself from the list (we don’t need to compare them to themselves)\n",
    "    similar_users = similar_users.drop(user_id)\n",
    "    \n",
    "    #Get the ratings of the most similar users\n",
    "    similar_users_ratings = user_movie_matrix.loc[similar_users.index]\n",
    "    \n",
    "    #Calculate a weighted average rating for each movie using the similarity scores\n",
    "    #Each user's rating is multiplied by how similar they are to the target user\n",
    "    weighted_ratings = similar_users_ratings.T.dot(similar_users) / similar_users.sum()\n",
    "    \n",
    "    #Sort movies based on the predicted ratings in descending order\n",
    "    sorted_movies = weighted_ratings.sort_values(ascending=False)\n",
    "    \n",
    "    #Select the top N recommended movies\n",
    "    top_movies = sorted_movies.head(num)\n",
    "    \n",
    "    #Fetch the actual movie names from the 'movies' DataFrame using movie IDs\n",
    "    movie_names = movies.loc[top_movies.index, 'title']\n",
    "    \n",
    "    #Create a DataFrame to display the results in a clean format with rankings\n",
    "    result_df = pd.DataFrame({\n",
    "        'Ranking': range(1, num + 1),\n",
    "        'Movie Name': movie_names\n",
    "    })\n",
    "    \n",
    "    #Set 'Ranking' as the index for better presentation\n",
    "    result_df.set_index('Ranking', inplace=True)\n",
    "    \n",
    "    # Return the final result containing top recommended movies\n",
    "    return result_df\n"
   ]
  },
  {
   "cell_type": "markdown",
   "metadata": {},
   "source": [
    "### Step 3 :  Return the Final Recommendation List"
   ]
  },
  {
   "cell_type": "code",
   "execution_count": null,
   "metadata": {},
   "outputs": [],
   "source": [
    "# Generate movie recommendations for user with ID 10, requesting the top 5 suggestions\n",
    "recommendations = recommend_movies_for_user(10, num=5)\n",
    "\n",
    "# Print the recommended movies in a ranked format\n",
    "print(recommendations)"
   ]
  },
  {
   "cell_type": "markdown",
   "metadata": {},
   "source": [
    "### Results and Insights"
   ]
  },
  {
   "cell_type": "code",
   "execution_count": null,
   "metadata": {},
   "outputs": [],
   "source": [
    "import matplotlib.pyplot as plt\n",
    "import seaborn as sns\n",
    "\n",
    "# Assuming `recommendations` contains the result DataFrame from the recommend_movies_for_user function\n",
    "def plot_top_recommendations(recommendations):\n",
    "    # Plotting a bar chart for the top movie recommendations\n",
    "    plt.figure(figsize=(10, 6))\n",
    "    sns.barplot(x=recommendations.index, y='Movie Name', hue='Movie Name', data=recommendations, palette='viridis', legend=False)\n",
    "    plt.title('Top Recommended Movies', fontsize=16)\n",
    "    plt.xlabel('Ranking', fontsize=12)\n",
    "    plt.ylabel('Movie Name', fontsize=12)\n",
    "    plt.xticks(rotation=45, ha='right')\n",
    "    plt.show()\n",
    "\n",
    "# Call the plot function for the recommendations\n",
    "plot_top_recommendations(recommendations)\n"
   ]
  },
  {
   "cell_type": "markdown",
   "metadata": {},
   "source": [
    "The plot displays five recommended movies ranked by a certain metric (e.g., predicted rating, similarity score, or user preference). The x-axis represents the Ranking, and the y-axis lists the Movie Names.\n",
    "\n",
    "Top 5 Recommended Movies (in descending order of score):\n",
    "\n",
    "1. Shanghai Triad (Yao a yao yao dao waipo qiao) (1995)\n",
    "\n",
    "2. Copycat (1995)\n",
    "\n",
    "3. Get Shorty (1995)\n",
    "\n",
    "4. Four Rooms (1995)\n",
    "\n",
    "5. GoldenEye (1995)"
   ]
  },
  {
   "cell_type": "markdown",
   "metadata": {},
   "source": [
    "#### Insights\n",
    "\n",
    "- Shanghai Triad (1995) has the highest recommendation score (ranking value), making it the top recommendation for the user.\n",
    "\n",
    "- All the recommended movies are from 1995, suggesting:\n",
    "\n",
    "    - The user's preferences might be inclined toward movies from the mid-90s.\n",
    "\n",
    "    - The recommendation algorithm is possibly content-based or based on user interaction with 1995 movies.\n",
    "\n",
    "- The bar lengths represent the recommendation scores or rankings — longer bars = higher recommendation strength."
   ]
  },
  {
   "cell_type": "markdown",
   "metadata": {
    "id": "MIN3XqC0eUAu"
   },
   "source": [
    "### **Item-Based Collaborative Filtering Recommender System**"
   ]
  },
  {
   "cell_type": "markdown",
   "metadata": {
    "id": "ytqWK-4ze2aA"
   },
   "source": [
    "#### **Objective**\n",
    "In this task, you will implement an **item-based collaborative filtering** recommendation system using the **Movie dataset**. The goal is to recommend movies similar to a given movie based on user rating patterns."
   ]
  },
  {
   "cell_type": "markdown",
   "metadata": {
    "id": "Q0-HuDvffY57"
   },
   "source": [
    "#### **Step 1: Import Required Libraries**\n",
    "Although we have done this part already in the previous task but just to emphasize the importance reiterrating this part.\n",
    "\n",
    "Before starting, ensure you have the necessary libraries installed. Use the following imports:\n",
    "\n",
    "```python\n",
    "import pandas as pd  # For handling data\n",
    "import numpy as np   # For numerical computations\n",
    "from sklearn.metrics.pairwise import cosine_similarity  # For computing item similarity\n",
    "```"
   ]
  },
  {
   "cell_type": "markdown",
   "metadata": {
    "id": "b9oy7pojf19r"
   },
   "source": [
    "#### **Step 2: Compute Item-Item Similarity**\n",
    "- We will use **cosine similarity** to measure how similar each pair of movies is based on their user ratings.\n",
    "- Since `cosine_similarity` does not handle missing values (NaN), replace them with `0` before computation.\n",
    "- Unlike user-based filtering, we need to **transpose** (`.T`) the `user_movie_matrix` because we want similarity between movies (columns) instead of users (rows).\n",
    "\n",
    "##### **Instructions:**\n",
    "1. Transpose the user-movie matrix using `.T` to make movies the rows.\n",
    "2. Fill missing values with `0` using `.fillna(0)`.\n",
    "3. Compute similarity using `cosine_similarity()`.\n",
    "4. Convert the result into a **Pandas DataFrame**, with movies as both row and column labels.\n",
    "\n",
    "##### **Hint:**  \n",
    "You can achieve this using the following approach:\n",
    "\n",
    "```python\n",
    "item_similarity = cosine_similarity(user_movie_matrix.T.fillna(0))\n",
    "item_sim_df = pd.DataFrame(item_similarity, index=user_movie_matrix.columns, columns=user_movie_matrix.columns)\n",
    "```"
   ]
  },
  {
   "cell_type": "markdown",
   "metadata": {
    "id": "L8k80idUgDWW"
   },
   "source": [
    "#### **Step 3: Implement the Recommendation Function**\n",
    "Now, implement the function `recommend_movies(movie_name, num=5)` to recommend movies similar to a given movie.\n",
    "\n",
    "##### **Function Inputs:**\n",
    "- `movie_name`: The target movie for which we need recommendations.\n",
    "- `num`: The number of similar movies to recommend (default is 5).\n",
    "\n",
    "##### **Function Steps:**\n",
    "1. Find the **movie_id** corresponding to the given `movie_name` in the `movies` DataFrame.\n",
    "2. If the movie is not found, return an appropriate message.\n",
    "3. Extract the **similarity scores** for this movie from `item_sim_df`.\n",
    "4. Sort the movies in **descending order** based on similarity (excluding the movie itself).\n",
    "5. Retrieve the **top `num` similar movies**.\n",
    "6. Map **movie IDs** to their **titles** using the `movies` DataFrame.\n",
    "7. Return the results as a **Pandas DataFrame** with rankings."
   ]
  },
  {
   "cell_type": "markdown",
   "metadata": {
    "id": "kNRZQWQkgLPf"
   },
   "source": [
    "#### **Step 4: Return the Final Recommendation List**\n",
    "Your function should return a **DataFrame** structured as follows:\n",
    "\n",
    "| Ranking | Movie Name |\n",
    "|---------|-----------|\n",
    "| 1       | Movie A   |\n",
    "| 2       | Movie B   |\n",
    "| 3       | Movie C   |\n",
    "| 4       | Movie D   |\n",
    "| 5       | Movie E   |\n",
    "\n",
    "##### **Hint:** Your final DataFrame should be created like this:\n",
    "```python\n",
    "result_df = pd.DataFrame({\n",
    "    'ranking': range(1, num+1),\n",
    "    'movie_name': movie_names\n",
    "})\n",
    "result_df.set_index('ranking', inplace=True)\n",
    "```"
   ]
  },
  {
   "cell_type": "markdown",
   "metadata": {
    "id": "h-EEF0Q1gd9N"
   },
   "source": [
    "#### **Example: Item-Based Collaborative Filtering**\n",
    "```python\n",
    "recommend_movies(\"Jurassic Park (1993)\", num=5)\n",
    "```\n",
    "**Output:**\n",
    "```\n",
    "| Ranking | Movie Name                               |\n",
    "|---------|------------------------------------------|\n",
    "| 1       | Top Gun (1986)                           |\n",
    "| 2       | Empire Strikes Back, The (1980)          |\n",
    "| 3       | Raiders of the Lost Ark (1981)           |\n",
    "| 4       | Indiana Jones and the Last Crusade (1989)|\n",
    "| 5       | Speed (1994)                             |\n"
   ]
  },
  {
   "cell_type": "markdown",
   "metadata": {},
   "source": [
    "### Step 1: Computing Item-Item Similarity"
   ]
  },
  {
   "cell_type": "markdown",
   "metadata": {},
   "source": [
    "To recommend similar movies, we need to measure how alike they are based on user rating behavior. For this, we’ll use cosine similarity, which captures the angle between two vectors—in this case, the rating patterns of two movies.\n",
    "\n",
    "Since cosine similarity cannot handle missing values, we first replace all NaN entries in the user-movie matrix with 0. We then transpose the matrix so that movies become rows (instead of users), allowing us to compute similarities between movies.\n",
    "\n",
    "This step will help us build an item similarity matrix, where each cell represents how closely related two movies are."
   ]
  },
  {
   "cell_type": "code",
   "execution_count": null,
   "metadata": {
    "id": "l1K79akTebWa"
   },
   "outputs": [],
   "source": [
    "# Code the function here\n",
    "# Transpose the user-movie matrix to make movies as rows instead of users\n",
    "# Fill missing values (NaNs) with 0s, as cosine similarity cannot handle NaNs\n",
    "item_similarity = cosine_similarity(user_movie_matrix.T.fillna(0))"
   ]
  },
  {
   "cell_type": "code",
   "execution_count": null,
   "metadata": {},
   "outputs": [],
   "source": [
    "# Create a DataFrame of the item-item similarity matrix\n",
    "# Set movie IDs as both row and column indices\n",
    "item_sim_df = pd.DataFrame(item_similarity, index=user_movie_matrix.columns, columns=user_movie_matrix.columns)"
   ]
  },
  {
   "cell_type": "code",
   "execution_count": null,
   "metadata": {},
   "outputs": [],
   "source": [
    "# Display the similarity matrix\n",
    "item_sim_df"
   ]
  },
  {
   "cell_type": "markdown",
   "metadata": {},
   "source": [
    "### Step 2:  Implement the Recommendation Function"
   ]
  },
  {
   "cell_type": "markdown",
   "metadata": {},
   "source": [
    "Now that we have the item-item similarity matrix, it's time to build a function that can recommend movies similar to a given movie. The goal is to create a function, recommend_movies(movie_name, num=5), that returns the most similar movies based on the computed item similarities.\n",
    "\n",
    "The process works as follows:\n",
    "\n",
    "1. Find the movie_id: We first look up the movie name in the movies DataFrame to get its corresponding ID.\n",
    "\n",
    "2. Check if the movie exists: If the movie isn't found in the dataset, we return a message indicating this.\n",
    "\n",
    "3. Extract similarity scores: For the selected movie, we extract its similarity scores with all other movies from the item similarity DataFrame.\n",
    "\n",
    "4. Sort and filter: We sort the similarity scores in descending order to find the most similar movies, excluding the movie itself.\n",
    "\n",
    "5. Return top recommendations: The function will return the top num most similar movies, along with their rankings.\n",
    "\n",
    "This function allows us to generate a list of movies that share similar rating patterns, giving users personalized recommendations."
   ]
  },
  {
   "cell_type": "code",
   "execution_count": null,
   "metadata": {},
   "outputs": [],
   "source": [
    "def recommend_movies(movie_name, num=5):\n",
    "    \n",
    "    # Fetch movie ID from the movies DataFrame using the title\n",
    "    movie_id = movies[movies['title'] == movie_name].index\n",
    "    \n",
    "    # Check if the movie exists in the dataset\n",
    "    if movie_id.empty:\n",
    "        return \"Movie not found in the dataset.\"\n",
    "    \n",
    "    # Extract the integer movie ID\n",
    "    movie_id = movie_id[0]  \n",
    "    \n",
    "    # Fetch similarity scores for the given movie from the similarity matrix\n",
    "    similarity_scores = item_sim_df.loc[movie_id]\n",
    "    \n",
    "    # Remove the movie itself from the list (it will have similarity of 1 with itself)\n",
    "    similarity_scores = similarity_scores.drop(movie_id)\n",
    "    \n",
    "    # Sort the scores in descending order and select the top N similar movies\n",
    "    top_movies = similarity_scores.sort_values(ascending=False).head(num)\n",
    "    \n",
    "    # Map the movie IDs to their corresponding titles\n",
    "    movie_names = movies.loc[top_movies.index, 'title']\n",
    "     \n",
    "    # Create a DataFrame of the results with rankings\n",
    "    result_df = pd.DataFrame({\n",
    "        'Ranking': range(1, num + 1),\n",
    "        'Movie Name': movie_names\n",
    "    })\n",
    "    \n",
    "    # Set Ranking as the index\n",
    "    result_df.set_index('Ranking', inplace=True)\n",
    "    \n",
    "    return result_df\n"
   ]
  },
  {
   "cell_type": "markdown",
   "metadata": {},
   "source": [
    "### Step 3 :  Return the Final Recommendation List"
   ]
  },
  {
   "cell_type": "code",
   "execution_count": null,
   "metadata": {},
   "outputs": [],
   "source": [
    "# Recommend movies similar to 'Jurassic Park (1993)'\n",
    "recommendations = recommend_movies('Jurassic Park (1993)', num=5)\n",
    "# Print the recommendation list\n",
    "print(recommendations)"
   ]
  },
  {
   "cell_type": "markdown",
   "metadata": {},
   "source": [
    "### Results and Insights"
   ]
  },
  {
   "cell_type": "code",
   "execution_count": null,
   "metadata": {},
   "outputs": [],
   "source": [
    "import matplotlib.pyplot as plt\n",
    "import seaborn as sns\n",
    "\n",
    "# Visualize similarity between the selected movie and its top recommendations\n",
    "def plot_similarity_heatmap(movie_name, num=5):\n",
    "    movie_id = movies[movies['title'] == movie_name].index\n",
    "    if movie_id.empty:\n",
    "        print(\"Movie not found.\")\n",
    "        return\n",
    "    movie_id = movie_id[0]\n",
    "    similarity_scores = item_sim_df.loc[movie_id]\n",
    "    top_movies = similarity_scores.sort_values(ascending=False).head(num)\n",
    "    top_movies_ids = [movie_id] + list(top_movies.index)\n",
    "    top_movie_titles = movies.loc[top_movies_ids, 'title']\n",
    "    \n",
    "    sim_matrix = item_sim_df.loc[top_movies_ids, top_movies_ids]\n",
    "    sim_matrix.index = sim_matrix.columns = top_movie_titles\n",
    "\n",
    "    plt.figure(figsize=(10, 8))\n",
    "    sns.heatmap(sim_matrix, annot=True, cmap=\"coolwarm\", fmt=\".2f\", square=True)\n",
    "    plt.title(f\"Similarity Heatmap: {movie_name} & Top {num} Recommendations\")\n",
    "    plt.xticks(rotation=45, ha='right')\n",
    "    plt.tight_layout()\n",
    "    plt.show()"
   ]
  },
  {
   "cell_type": "code",
   "execution_count": null,
   "metadata": {},
   "outputs": [],
   "source": [
    "plot_similarity_heatmap(\"Jurassic Park (1993)\", num=5)"
   ]
  },
  {
   "cell_type": "markdown",
   "metadata": {},
   "source": [
    "Main Movie: Jurassic Park (1993)\n",
    "\n",
    "Top 5 Similar Movies (Based on Cosine Similarity):\n",
    "\n",
    "- Outlaw, The (1943) – 0.23\n",
    "\n",
    "- Transformers: The Movie, The (1986) – 0.20\n",
    "\n",
    "- Faithful (1996) – 0.20\n",
    "\n",
    "- Adventures of Robin Hood, The (1938) – 0.18\n",
    "\n",
    "(Duplicate entry for Jurassic Park) – 1.00 (but ignored for recommendations)\n",
    "\n",
    "Observations:\n",
    "\n",
    "- The values are relatively low (< 0.3), which suggests that no movie is highly similar to Jurassic Park (1993) in this dataset based on the feature embeddings.\n",
    "\n",
    "- Some similarities are even slightly negative or near zero, showing minimal thematic or feature overlap.\n",
    "\n",
    "- The diagonal shows perfect similarity (1.00) because a movie is always 100% similar to itself."
   ]
  },
  {
   "cell_type": "code",
   "execution_count": null,
   "metadata": {},
   "outputs": [],
   "source": [
    "def plot_similarity_bar(movie_name, num=5):\n",
    "    movie_id = movies[movies['title'] == movie_name].index\n",
    "    if movie_id.empty:\n",
    "        print(\"Movie not found.\")\n",
    "        return\n",
    "    movie_id = movie_id[0]\n",
    "    similarity_scores = item_sim_df.loc[movie_id].drop(movie_id)\n",
    "    top_movies = similarity_scores.sort_values(ascending=False).head(num)\n",
    "    top_movie_titles = movies.loc[top_movies.index, 'title']\n",
    "    \n",
    "    plt.figure(figsize=(10, 6))\n",
    "    sns.barplot(x=top_movies.values, y=top_movie_titles.values, palette='viridis')\n",
    "    plt.xlabel(\"Cosine Similarity\")\n",
    "    plt.title(f\"Top {num} Movie Recommendations Similar to '{movie_name}'\")\n",
    "    plt.xlim(0, 1)\n",
    "    plt.tight_layout()\n",
    "    plt.show()"
   ]
  },
  {
   "cell_type": "code",
   "execution_count": null,
   "metadata": {},
   "outputs": [],
   "source": [
    "plot_similarity_bar(\"Jurassic Park (1993)\", num=5)"
   ]
  },
  {
   "cell_type": "markdown",
   "metadata": {},
   "source": [
    "The bar plot confirms the top 5 recommendations with their similarity scores:\n",
    "\n",
    "- Outlaw, The (1943) has the highest among them (~0.23)\n",
    "\n",
    "- Others follow close behind, but again, scores remain low overall.\n",
    "\n",
    "Interesting Addition: Dirty Dancing (1987) appears in the bar plot but was not shown in the heatmap, indicating a possible inconsistency or update in the underlying data when the bar chart was generated."
   ]
  },
  {
   "cell_type": "markdown",
   "metadata": {
    "id": "YhZXLz7Rh_VC"
   },
   "source": [
    "## **Part 3: Graph-Based Recommender (Pixie-Inspired Algorithm)**"
   ]
  },
  {
   "cell_type": "markdown",
   "metadata": {
    "id": "u_YceL18lWlN"
   },
   "source": [
    "### **Adjacency List**"
   ]
  },
  {
   "cell_type": "markdown",
   "metadata": {
    "id": "CFF1tUDsipIX"
   },
   "source": [
    "#### **Objective**\n",
    "In this task, you will preprocess the Movie dataset and construct a **graph representation** where:\n",
    "- **Users** are connected to the movies they have rated.\n",
    "- **Movies** are connected to users who have rated them.\n",
    "  \n",
    "This graph structure will help in exploring **user-movie relationships** for recommendations."
   ]
  },
  {
   "cell_type": "markdown",
   "metadata": {
    "id": "-3OPInjhkUzy"
   },
   "source": [
    "#### **Step 1: Merge Ratings with Movie Titles**\n",
    "Since we have **movie IDs** in the ratings dataset but need human-readable movie titles, we will:\n",
    "1. Merge the `ratings` DataFrame with the `movies` DataFrame using the `'movie_id'` column.\n",
    "2. This allows each rating to be associated with a **movie title**.\n",
    "\n",
    "#### **Hint:**\n",
    "Use the following Pandas operation to merge:\n",
    "```python\n",
    "ratings = ratings.merge(movies, on='movie_id')\n",
    "```"
   ]
  },
  {
   "cell_type": "markdown",
   "metadata": {
    "id": "3OPUXyNVkfHr"
   },
   "source": [
    "\n",
    "#### **Step 2: Aggregate Ratings**\n",
    "Since multiple users may rate the same movie multiple times, we:\n",
    "1. Group the dataset by `['user_id', 'movie_id', 'title']`.\n",
    "2. Compute the **mean rating** for each movie by each user.\n",
    "3. Reset the index to ensure we maintain a clean DataFrame structure.\n",
    "\n",
    "#### **Hint:**  \n",
    "Use `groupby()` and `mean()` as follows:\n",
    "```python\n",
    "ratings = ratings.groupby(['user_id', 'movie_id', 'title'])['rating'].mean().reset_index()\n",
    "```"
   ]
  },
  {
   "cell_type": "markdown",
   "metadata": {
    "id": "NU1fB66WkqEO"
   },
   "source": [
    "#### **Step 3: Normalize Ratings**\n",
    "Since different users have different rating biases, we normalize ratings by:\n",
    "1. **Computing each user's mean rating**.\n",
    "2. **Subtracting the mean rating** from each individual rating.\n",
    "\n",
    "#### **Instructions:**\n",
    "- Use `groupby('user_id')` to group ratings by users.\n",
    "- Apply `transform(lambda x: x - x.mean())` to adjust ratings.\n",
    "\n",
    "#### **Hint:**  \n",
    "Normalize ratings using:\n",
    "```python\n",
    "ratings['rating'] = ratings.groupby('user_id')['rating'].transform(lambda x: x - x.mean())\n",
    "```\n",
    "This ensures each user’s ratings are centered around zero, making similarity calculations fairer."
   ]
  },
  {
   "cell_type": "markdown",
   "metadata": {
    "id": "79NB8zIWkvWP"
   },
   "source": [
    "#### **Step 4: Construct the Graph Representation**\n",
    "We represent the user-movie interactions as an **undirected graph** using an **adjacency list**:\n",
    "- Each **user** is a node connected to movies they rated.\n",
    "- Each **movie** is a node connected to users who rated it.\n",
    "\n",
    "#### **Graph Construction Steps:**\n",
    "1. Initialize an empty dictionary `graph = {}`.\n",
    "2. Iterate through the **ratings dataset**.\n",
    "3. For each `user_id` and `movie_id` pair:\n",
    "   - Add the movie to the user’s set of connections.\n",
    "   - Add the user to the movie’s set of connections.\n",
    "\n",
    "#### **Hint:**  \n",
    "The following code builds the graph:\n",
    "\n",
    "```python\n",
    "graph = {}\n",
    "for _, row in ratings.iterrows():\n",
    "    user, movie = row['user_id'], row['movie_id']\n",
    "    if user not in graph:\n",
    "        graph[user] = set()\n",
    "    if movie not in graph:\n",
    "        graph[movie] = set()\n",
    "    graph[user].add(movie)\n",
    "    graph[movie].add(user)\n",
    "```\n",
    "\n",
    "This results in a **bipartite graph**, where:\n",
    "- **Users** are connected to multiple movies.\n",
    "- **Movies** are connected to multiple users."
   ]
  },
  {
   "cell_type": "markdown",
   "metadata": {
    "id": "wEuVgjAAk4KV"
   },
   "source": [
    "#### **Step 5: Understanding the Graph**\n",
    "- **Nodes** in the graph represent **users and movies**.\n",
    "- **Edges** exist between a user and a movie **if the user has rated the movie**.\n",
    "- This structure allows us to find **users with similar movie tastes** and **movies frequently watched together**.\n",
    "\n",
    "#### **Exploring the Graph**\n",
    "- **Find a user’s rated movies:**  \n",
    "  ```python\n",
    "  user_id = 1\n",
    "  print(graph[user_id])  # Movies rated by user 1\n",
    "  ```\n",
    "\n",
    "- **Find users who rated a movie:**  \n",
    "  ```python\n",
    "  movie_id = 50\n",
    "  print(graph[movie_id])  # Users who rated movie 50\n",
    "  ```"
   ]
  },
  {
   "cell_type": "markdown",
   "metadata": {},
   "source": [
    "### Step 1 : Merge Ratings with Movie Titles"
   ]
  },
  {
   "cell_type": "markdown",
   "metadata": {},
   "source": [
    "The ratings dataset contains movie IDs, but we need to map these IDs to human-readable movie titles. This can be achieved by merging the ratings DataFrame with the movies DataFrame on the movie_id column. The result is that each rating will be associated with a movie title."
   ]
  },
  {
   "cell_type": "code",
   "execution_count": 31,
   "metadata": {
    "id": "b4V2aL4DiMM4"
   },
   "outputs": [],
   "source": [
    "# Code the function here\n",
    "ratings = ratings.merge(movies, on='movie_id')"
   ]
  },
  {
   "cell_type": "markdown",
   "metadata": {},
   "source": [
    "### Step 2 : Aggregate Ratings"
   ]
  },
  {
   "cell_type": "markdown",
   "metadata": {},
   "source": [
    "Since multiple users may rate the same movie multiple times, we should aggregate the ratings by computing the mean rating for each movie by each user. This ensures each user-movie pair has a single rating."
   ]
  },
  {
   "cell_type": "code",
   "execution_count": 32,
   "metadata": {},
   "outputs": [],
   "source": [
    "ratings = ratings.groupby(['user_id', 'movie_id', 'title'])['rating'].mean().reset_index()"
   ]
  },
  {
   "cell_type": "markdown",
   "metadata": {},
   "source": [
    "### Step 3: Normalize Ratings"
   ]
  },
  {
   "cell_type": "markdown",
   "metadata": {},
   "source": [
    "Since different users may have different rating biases (e.g., some users tend to rate movies higher or lower), we normalize ratings to adjust for these biases. This is done by computing the mean rating for each user and subtracting it from each individual rating."
   ]
  },
  {
   "cell_type": "markdown",
   "metadata": {},
   "source": [
    "This step ensures each user’s ratings are centered around zero, making similarity calculations fairer."
   ]
  },
  {
   "cell_type": "code",
   "execution_count": 33,
   "metadata": {},
   "outputs": [],
   "source": [
    "ratings['rating'] = ratings.groupby('user_id')['rating'].transform(lambda x: x - x.mean())"
   ]
  },
  {
   "cell_type": "markdown",
   "metadata": {},
   "source": [
    "### Step 4: Construct the Graph Representation"
   ]
  },
  {
   "cell_type": "markdown",
   "metadata": {},
   "source": [
    "We will now represent the user-movie interactions as an undirected graph using an adjacency list. In this graph:\n",
    "\n",
    "- Each user is a node connected to the movies they rated.\n",
    "\n",
    "- Each movie is a node connected to the users who rated it.\n",
    "\n",
    "#### Graph Construction Steps:\n",
    "\n",
    "1. Initialize an empty dictionary to store the graph: graph = {}.\n",
    "\n",
    "2. Iterate through the ratings dataset. For each user-movie pair:\n",
    "- Add the movie to the user’s set of connections.\n",
    "\n",
    "- Add the user to the movie’s set of connections."
   ]
  },
  {
   "cell_type": "code",
   "execution_count": 34,
   "metadata": {},
   "outputs": [],
   "source": [
    "# Initialize an empty dictionary to represent the graph\n",
    "graph = {}\n",
    "\n",
    "\n",
    "# Iterate through each row of the ratings DataFrame\n",
    "for _, row in ratings.iterrows():\n",
    "    \n",
    "    # Extract the user_id and movie_id from the current row\n",
    "    user, movie = row['user_id'], row['movie_id']\n",
    "    \n",
    "    # If the user is not already in the graph, add the user as a node with an empty set\n",
    "    if user not in graph:\n",
    "        graph[user] = set()\n",
    "        \n",
    "    # If the movie is not already in the graph, add the movie as a node with an empty set\n",
    "    if movie not in graph:\n",
    "        graph[movie] = set()\n",
    "        \n",
    "    # Add the movie to the user's set of connected movies (edges from user to movie)\n",
    "    graph[user].add(movie)\n",
    "    \n",
    "    # Add the user to the movie's set of connected users (edges from movie to user)\n",
    "    graph[movie].add(user)"
   ]
  },
  {
   "cell_type": "markdown",
   "metadata": {},
   "source": [
    "This results in a bipartite graph, where:\n",
    "\n",
    "1. Users are connected to multiple movies.\n",
    "\n",
    "2. Movies are connected to multiple users."
   ]
  },
  {
   "cell_type": "markdown",
   "metadata": {},
   "source": [
    "### Step 5: Understanding the Graph"
   ]
  },
  {
   "cell_type": "markdown",
   "metadata": {},
   "source": [
    "In this graph, nodes represent both users and movies, and edges exist between a user and a movie if that user has rated the movie. This structure helps us explore connections between users with similar movie tastes and movies that are frequently rated by the same users."
   ]
  },
  {
   "cell_type": "markdown",
   "metadata": {},
   "source": [
    "Exploring the Graph:\n",
    "\n",
    "1. To find a user’s rated movies, you can use:"
   ]
  },
  {
   "cell_type": "code",
   "execution_count": 35,
   "metadata": {},
   "outputs": [
    {
     "name": "stdout",
     "output_type": "stream",
     "text": [
      "{1, 2, 3, 4, 5, 6, 7, 8, 9, 10, 11, 12, 13, 14, 15, 16, 17, 18, 19, 20, 21, 22, 23, 24, 25, 26, 27, 28, 29, 30, 31, 32, 33, 34, 35, 36, 37, 38, 39, 40, 41, 42, 43, 44, 45, 46, 47, 48, 49, 50, 51, 52, 53, 54, 55, 56, 57, 58, 59, 60, 61, 62, 63, 64, 65, 66, 67, 68, 69, 70, 71, 72, 73, 74, 75, 76, 77, 78, 79, 80, 81, 82, 83, 84, 85, 86, 87, 88, 89, 90, 91, 92, 93, 94, 95, 96, 97, 98, 99, 100, 101, 102, 103, 104, 105, 106, 107, 108, 109, 110, 111, 112, 113, 114, 115, 116, 117, 118, 119, 120, 121, 122, 123, 124, 125, 126, 127, 128, 129, 130, 131, 132, 133, 134, 135, 136, 137, 138, 139, 140, 141, 142, 143, 144, 145, 146, 147, 148, 149, 150, 151, 152, 153, 154, 155, 156, 157, 158, 159, 160, 161, 162, 163, 164, 165, 166, 167, 168, 169, 170, 171, 172, 173, 174, 175, 176, 177, 178, 179, 180, 181, 182, 183, 184, 185, 186, 187, 188, 189, 190, 191, 192, 193, 194, 195, 196, 197, 198, 199, 200, 201, 202, 203, 204, 205, 206, 207, 208, 209, 210, 211, 212, 213, 214, 215, 216, 217, 218, 219, 220, 221, 222, 223, 224, 225, 226, 227, 228, 229, 230, 231, 232, 233, 234, 235, 236, 237, 238, 239, 240, 241, 242, 243, 244, 245, 246, 247, 248, 249, 250, 251, 252, 253, 254, 255, 256, 257, 258, 259, 260, 261, 262, 263, 264, 265, 266, 268, 269, 270, 271, 272, 274, 275, 276, 277, 279, 280, 286, 287, 289, 290, 291, 292, 293, 294, 295, 296, 297, 298, 299, 301, 303, 305, 307, 308, 311, 312, 313, 314, 320, 322, 324, 325, 326, 327, 330, 331, 332, 336, 338, 339, 340, 343, 344, 345, 347, 348, 350, 357, 359, 360, 363, 365, 371, 374, 378, 379, 380, 381, 387, 388, 389, 390, 393, 394, 395, 396, 398, 399, 401, 402, 403, 406, 407, 411, 412, 416, 417, 419, 422, 424, 425, 429, 432, 434, 435, 438, 441, 445, 447, 450, 454, 455, 456, 457, 458, 459, 460, 463, 465, 467, 468, 470, 471, 472, 478, 479, 483, 484, 486, 487, 488, 490, 493, 494, 495, 497, 500, 503, 505, 508, 512, 514, 517, 518, 521, 523, 525, 526, 532, 533, 534, 535, 536, 537, 540, 541, 542, 545, 548, 549, 550, 552, 553, 554, 560, 561, 562, 567, 569, 576, 577, 579, 580, 582, 588, 592, 593, 597, 599, 602, 605, 606, 609, 610, 612, 613, 614, 618, 620, 621, 622, 624, 630, 632, 634, 635, 636, 637, 642, 643, 648, 649, 650, 653, 654, 655, 657, 658, 660, 661, 663, 664, 665, 669, 674, 676, 677, 678, 679, 680, 682, 684, 689, 690, 691, 692, 697, 698, 699, 701, 703, 705, 706, 708, 709, 710, 714, 715, 716, 721, 723, 726, 727, 730, 731, 733, 735, 738, 742, 744, 745, 746, 747, 748, 749, 751, 756, 757, 759, 761, 763, 764, 767, 768, 769, 770, 771, 773, 777, 779, 785, 786, 788, 789, 790, 792, 793, 794, 795, 796, 798, 800, 804, 805, 806, 807, 815, 817, 821, 822, 823, 826, 829, 830, 831, 835, 838, 839, 843, 847, 852, 854, 864, 865, 867, 868, 870, 872, 879, 880, 881, 882, 883, 885, 886, 887, 889, 890, 892, 893, 894, 895, 896, 897, 899, 901, 902, 903, 907, 910, 913, 916, 917, 918, 919, 921, 922, 923, 924, 927, 929, 930, 932, 933, 934, 935, 936, 938, 941}\n"
     ]
    }
   ],
   "source": [
    "user_id = 1\n",
    "print(graph[user_id]) # Movies rated by user 1"
   ]
  },
  {
   "cell_type": "markdown",
   "metadata": {},
   "source": [
    "2. To find users who rated a particular movie, you can use:"
   ]
  },
  {
   "cell_type": "code",
   "execution_count": 36,
   "metadata": {},
   "outputs": [
    {
     "name": "stdout",
     "output_type": "stream",
     "text": [
      "{1, 2, 4, 5, 6, 7, 8, 9, 10, 12, 13, 14, 15, 18, 20, 21, 22, 23, 25, 26, 27, 28, 30, 32, 37, 41, 42, 43, 44, 45, 46, 48, 49, 51, 53, 54, 55, 56, 57, 58, 59, 60, 62, 63, 64, 65, 66, 68, 69, 70, 71, 72, 77, 79, 80, 82, 83, 85, 87, 89, 91, 92, 94, 95, 96, 97, 99, 100, 101, 102, 103, 104, 108, 109, 113, 115, 116, 117, 119, 120, 121, 123, 124, 125, 127, 128, 130, 132, 137, 141, 144, 145, 148, 150, 151, 153, 154, 157, 158, 160, 161, 162, 169, 174, 175, 176, 177, 178, 182, 183, 184, 185, 188, 189, 192, 194, 197, 198, 200, 201, 203, 209, 210, 213, 214, 215, 216, 217, 221, 222, 227, 230, 231, 232, 233, 234, 235, 236, 239, 244, 245, 246, 247, 248, 249, 250, 251, 253, 254, 256, 257, 262, 263, 265, 267, 268, 269, 270, 271, 272, 274, 275, 276, 277, 279, 280, 283, 286, 287, 288, 290, 291, 292, 293, 294, 295, 296, 297, 298, 299, 301, 303, 305, 307, 308, 310, 311, 312, 313, 316, 318, 319, 320, 321, 322, 323, 324, 325, 326, 327, 328, 329, 330, 332, 334, 336, 337, 339, 340, 343, 344, 345, 346, 347, 350, 352, 354, 359, 360, 361, 363, 367, 368, 369, 370, 371, 373, 374, 378, 379, 380, 381, 382, 385, 386, 387, 389, 391, 392, 393, 394, 395, 397, 398, 399, 401, 402, 403, 405, 406, 407, 409, 411, 413, 416, 417, 419, 421, 422, 424, 425, 426, 429, 430, 432, 433, 435, 436, 437, 438, 444, 445, 447, 450, 452, 453, 454, 455, 456, 457, 458, 459, 461, 463, 464, 465, 466, 467, 468, 470, 471, 472, 474, 475, 478, 479, 480, 481, 482, 483, 484, 486, 487, 488, 490, 493, 494, 495, 496, 497, 498, 499, 500, 503, 504, 505, 506, 507, 508, 509, 512, 513, 514, 516, 517, 521, 523, 524, 526, 527, 528, 530, 533, 535, 536, 537, 538, 539, 540, 541, 542, 544, 545, 546, 547, 548, 549, 550, 551, 552, 553, 554, 555, 557, 560, 561, 562, 563, 564, 566, 567, 569, 573, 575, 576, 577, 579, 580, 581, 582, 584, 586, 588, 592, 593, 594, 595, 596, 597, 600, 601, 602, 603, 606, 608, 610, 613, 618, 619, 620, 621, 622, 623, 624, 625, 629, 630, 632, 633, 634, 637, 638, 641, 642, 643, 644, 645, 648, 649, 650, 653, 654, 655, 658, 659, 660, 661, 662, 663, 664, 665, 666, 668, 669, 671, 672, 674, 676, 678, 679, 680, 682, 684, 686, 689, 691, 693, 694, 697, 698, 699, 700, 701, 703, 704, 705, 706, 708, 709, 710, 711, 712, 714, 715, 716, 717, 719, 721, 723, 727, 730, 734, 735, 736, 738, 739, 741, 742, 744, 745, 746, 747, 748, 749, 751, 753, 756, 757, 758, 759, 760, 761, 763, 764, 765, 766, 768, 770, 771, 773, 774, 776, 779, 780, 781, 782, 785, 786, 789, 790, 791, 793, 794, 795, 796, 797, 798, 799, 800, 804, 805, 806, 807, 815, 823, 825, 826, 830, 831, 832, 833, 834, 835, 838, 839, 840, 843, 844, 846, 847, 848, 850, 851, 852, 854, 862, 864, 867, 868, 869, 870, 871, 875, 878, 879, 880, 881, 882, 883, 885, 886, 887, 889, 890, 891, 892, 893, 894, 895, 896, 897, 899, 901, 902, 903, 907, 908, 910, 913, 916, 917, 919, 921, 922, 923, 924, 929, 930, 931, 933, 934, 936, 937, 938, 940, 942, 943, 1008, 1010, 1084}\n"
     ]
    }
   ],
   "source": [
    "movie_id = 50\n",
    "print(graph[movie_id]) # Users who rated movie 50"
   ]
  },
  {
   "cell_type": "markdown",
   "metadata": {
    "id": "_ZE31gB7lImI"
   },
   "source": [
    "### **Implement Weighted Random Walks**"
   ]
  },
  {
   "cell_type": "markdown",
   "metadata": {
    "id": "yHe42rlJl9kD"
   },
   "source": [
    "#### **Random Walk-Based Movie Recommendation System (Weighted Pixie)**"
   ]
  },
  {
   "cell_type": "markdown",
   "metadata": {
    "id": "jyqptwreo-IP"
   },
   "source": [
    "#### **Objective**\n",
    "In this task, you will implement a **random-walk-based recommendation algorithm** using the **Weighted Pixie** method. This technique uses a **user-movie bipartite graph** to recommend movies by simulating a random walk from a given user or movie."
   ]
  },
  {
   "cell_type": "markdown",
   "metadata": {
    "id": "jFgyzzdCpfzu"
   },
   "source": [
    "#### **Step 1: Import Required Libraries**\n",
    "Make sure you have the necessary libraries:\n",
    "\n",
    "```python\n",
    "import random  # For random walks\n",
    "import pandas as pd  # For handling data\n",
    "```"
   ]
  },
  {
   "cell_type": "markdown",
   "metadata": {
    "id": "_FVGjhl0ppFK"
   },
   "source": [
    "#### **Step 2: Implement the Random Walk Algorithm**\n",
    "Your task is to **simulate a random walk** from a given starting point in the **bipartite user-movie graph**.\n",
    "\n",
    "##### **Hints for Implementation**\n",
    "- Start from **either a user or a movie**.\n",
    "- At each step, **randomly move** to a connected node.\n",
    "- Keep track of **how many times each movie is visited**.\n",
    "- After completing the walk, **rank movies by visit count**."
   ]
  },
  {
   "cell_type": "markdown",
   "metadata": {
    "id": "E7D7Pj6trss9"
   },
   "source": [
    "#### **Step 3: Implement User-Based Recommendation**\n",
    "**Hints:**\n",
    "- Check if the `user_id` exists in the `graph`.\n",
    "- Start a loop that runs for `walk_length` steps.\n",
    "- Randomly pick a **connected node** (user or movie).\n",
    "- Track how many times each **movie** is visited.\n",
    "- Sort movies by visit frequency and return the **top N**.\n",
    "\n",
    "#### **Step 4: Implement Movie-Based Recommendation**\n",
    "**Hints:**\n",
    "- Find the `movie_id` corresponding to the given `movie_name`.\n",
    "- Ensure the movie exists in the `graph`.\n",
    "- Start a random walk from that movie.\n",
    "- Follow the same **tracking and ranking** process as the user-based version.\n",
    "\n",
    "**Note:**  \n",
    "**Your task:** Implement a function `weighted_pixie_recommend(user_id, walk_length=15, num=5)` or `weighted_pixie_recommend(movie_name, walk_length=15, num=5)`.  \n",
    "**Implement either Step 3 or Step 4.**"
   ]
  },
  {
   "cell_type": "markdown",
   "metadata": {
    "id": "qxN_ibCCrCpx"
   },
   "source": [
    "#### **Step 5: Running Your Recommendation System**\n",
    "Once your function is implemented, test it by calling:\n",
    "\n",
    "##### **Example: User-Based Recommendation**\n",
    "```python\n",
    "weighted_pixie_recommend(1, walk_length=15, num=5)\n",
    "```\n",
    "| Ranking | Movie Name                     |\n",
    "|---------|--------------------------------|\n",
    "| 1       | My Own Private Idaho (1991)   |\n",
    "| 2       | Aladdin (1992)                |\n",
    "| 3       | 12 Angry Men (1957)           |\n",
    "| 4       | Happy Gilmore (1996)          |\n",
    "| 5       | Copycat (1995)                |\n",
    "\n",
    "\n",
    "##### **Example: Movie-Based Recommendation**\n",
    "```python\n",
    "weighted_pixie_recommend(\"Jurassic Park (1993)\", walk_length=10, num=5)\n",
    "```\n",
    "| Ranking | Movie Name                           |\n",
    "|---------|-------------------------------------|\n",
    "| 1       | Rear Window (1954)                 |\n",
    "| 2       | Great Dictator, The (1940)         |\n",
    "| 3       | Field of Dreams (1989)             |\n",
    "| 4       | Casablanca (1942)                  |\n",
    "| 5       | Nightmare Before Christmas, The (1993) |\n"
   ]
  },
  {
   "cell_type": "markdown",
   "metadata": {
    "id": "ZpUH9IzVr5aQ"
   },
   "source": [
    "#### **Step 6: Understanding the Results**\n",
    "Your function should return a **DataFrame** structured as follows:\n",
    "\n",
    "| Ranking | Movie Name |\n",
    "|---------|-----------|\n",
    "| 1       | Movie A   |\n",
    "| 2       | Movie B   |\n",
    "| 3       | Movie C   |\n",
    "| 4       | Movie D   |\n",
    "| 5       | Movie E   |\n",
    "\n",
    "Each movie is ranked based on **how frequently it was visited** during the walk.\n",
    "\n",
    "#### **Experiment with Different Parameters**\n",
    "- Try different **`walk_length`** values and observe how it changes recommendations.\n",
    "- Adjust the number of recommended movies (`num`)."
   ]
  },
  {
   "cell_type": "markdown",
   "metadata": {},
   "source": [
    "### Step 1: Import Required Libraries"
   ]
  },
  {
   "cell_type": "markdown",
   "metadata": {},
   "source": [
    "We need the `random` library for simulating random walks and the `pandas` library for handling data and creating a DataFrame of the results."
   ]
  },
  {
   "cell_type": "code",
   "execution_count": 37,
   "metadata": {
    "id": "tZD5fjG-lx3b"
   },
   "outputs": [],
   "source": [
    "# Code the function here\n",
    "import random  # For performing random walks\n",
    "import pandas as pd  "
   ]
  },
  {
   "cell_type": "markdown",
   "metadata": {},
   "source": [
    "### Step 2: Movie ID ↔ Movie Name Lookup"
   ]
  },
  {
   "cell_type": "markdown",
   "metadata": {},
   "source": [
    "We need two dictionaries:\n",
    "\n",
    "1. movie_id_to_name: Maps movie IDs to their respective movie names.\n",
    "\n",
    "2. movie_name_to_id: Maps movie names to their respective movie IDs.\n",
    "\n",
    "This allows us to easily map movie IDs and names during the random walk."
   ]
  },
  {
   "cell_type": "code",
   "execution_count": 38,
   "metadata": {},
   "outputs": [],
   "source": [
    "# Movie ID ↔ Movie Name lookup\n",
    "\n",
    "# Map movie IDs to titles\n",
    "movie_id_to_name = dict(zip(movies['movie_id'], movies['title']))\n",
    "\n",
    "# Map movie titles to IDs\n",
    "movie_name_to_id = dict(zip(movies['title'], movies['movie_id']))"
   ]
  },
  {
   "cell_type": "markdown",
   "metadata": {},
   "source": [
    "### Step 3: Implement the Random Walk Algorithm (Weighted Pixie)"
   ]
  },
  {
   "cell_type": "markdown",
   "metadata": {},
   "source": [
    "We implement the core of the random walk-based recommendation system in the weighted_pixie_recommend function.\n",
    "\n",
    "This function will simulate a random walk starting from either a user or a movie. It will track how many times each movie is visited during the walk and return the top recommended movies."
   ]
  },
  {
   "cell_type": "code",
   "execution_count": 39,
   "metadata": {},
   "outputs": [],
   "source": [
    "def weighted_pixie_recommend(start, walk_length=15, num=5):\n",
    "    \n",
    "    # Dictionary to keep track of movie visits during the walk\n",
    "    visits = {}\n",
    "    \n",
    "    # Check if starting point is a user or a movie and initialize the walk\n",
    "    \n",
    "    # If the starting point is a user (user_id)\n",
    "    if isinstance(start, int):  # User-based recommendation\n",
    "        if start not in graph:\n",
    "            return \"User not found.\" # Return if the user is not in the graph\n",
    "        current = start # Start at the given user\n",
    "    \n",
    "    # If the starting point is a movie (movie_name)\n",
    "    elif isinstance(start, str):  # Movie-based recommendation\n",
    "        \n",
    "        # Get movie ID from movie name\n",
    "        movie_id = movie_name_to_id.get(start)\n",
    "        if movie_id not in graph:\n",
    "            return \"Movie not found.\" # Return if the movie is not in the graph\n",
    "        current = movie_id # Start at the given movie\n",
    "        \n",
    "    # Invalid input case\n",
    "    else:\n",
    "        return \"Invalid input. Please provide a user_id (int) or movie_name (str).\"\n",
    "\n",
    "    \n",
    "    #random walk\n",
    "    # Perform the random walk for the specified number of steps (walk_length)\n",
    "    \n",
    "    for _ in range(walk_length):\n",
    "        neighbors = list(graph.get(current, [])) # Get all connected nodes (either users or movies)\n",
    "        if not neighbors:\n",
    "            break # Stop the walk if there are no neighbors to move to\n",
    "            \n",
    "        # Randomly choose the next node in the walk\n",
    "        current = random.choice(neighbors)\n",
    "\n",
    "        # Count visit only if it's a movie\n",
    "        if current in movie_id_to_name:\n",
    "            visits[current] = visits.get(current, 0) + 1 # Increment visit count for the movie\n",
    "\n",
    "    # Sort movies by number of visits and pick the top 'num' movies\n",
    "    top_movies = sorted(visits.items(), key=lambda x: x[1], reverse=True)[:num]\n",
    "\n",
    "    # Return as DataFrame\n",
    "    return pd.DataFrame({\n",
    "        'Ranking': range(1, len(top_movies) + 1),\n",
    "        'Movie Name': [movie_id_to_name[movie_id] for movie_id, _ in top_movies]\n",
    "    })"
   ]
  },
  {
   "cell_type": "markdown",
   "metadata": {},
   "source": [
    "### Step 3 : Testing the Recommendation System"
   ]
  },
  {
   "cell_type": "markdown",
   "metadata": {},
   "source": [
    "We will test the weighted_pixie_recommend function with two examples:\n",
    "\n",
    "1. User-Based Recommendation: We start the random walk from a user ID (e.g., user 1) and get the top 5 movie recommendations based on the number of visits during the walk."
   ]
  },
  {
   "cell_type": "code",
   "execution_count": 40,
   "metadata": {},
   "outputs": [
    {
     "data": {
      "text/html": [
       "<div>\n",
       "<style scoped>\n",
       "    .dataframe tbody tr th:only-of-type {\n",
       "        vertical-align: middle;\n",
       "    }\n",
       "\n",
       "    .dataframe tbody tr th {\n",
       "        vertical-align: top;\n",
       "    }\n",
       "\n",
       "    .dataframe thead th {\n",
       "        text-align: right;\n",
       "    }\n",
       "</style>\n",
       "<table border=\"1\" class=\"dataframe\">\n",
       "  <thead>\n",
       "    <tr style=\"text-align: right;\">\n",
       "      <th></th>\n",
       "      <th>Ranking</th>\n",
       "      <th>Movie Name</th>\n",
       "    </tr>\n",
       "  </thead>\n",
       "  <tbody>\n",
       "    <tr>\n",
       "      <th>0</th>\n",
       "      <td>1</td>\n",
       "      <td>Giant (1956)</td>\n",
       "    </tr>\n",
       "    <tr>\n",
       "      <th>1</th>\n",
       "      <td>2</td>\n",
       "      <td>People vs. Larry Flynt, The (1996)</td>\n",
       "    </tr>\n",
       "    <tr>\n",
       "      <th>2</th>\n",
       "      <td>3</td>\n",
       "      <td>Annie Hall (1977)</td>\n",
       "    </tr>\n",
       "    <tr>\n",
       "      <th>3</th>\n",
       "      <td>4</td>\n",
       "      <td>Shawshank Redemption, The (1994)</td>\n",
       "    </tr>\n",
       "    <tr>\n",
       "      <th>4</th>\n",
       "      <td>5</td>\n",
       "      <td>Donnie Brasco (1997)</td>\n",
       "    </tr>\n",
       "  </tbody>\n",
       "</table>\n",
       "</div>"
      ],
      "text/plain": [
       "   Ranking                          Movie Name\n",
       "0        1                        Giant (1956)\n",
       "1        2  People vs. Larry Flynt, The (1996)\n",
       "2        3                   Annie Hall (1977)\n",
       "3        4    Shawshank Redemption, The (1994)\n",
       "4        5                Donnie Brasco (1997)"
      ]
     },
     "execution_count": 40,
     "metadata": {},
     "output_type": "execute_result"
    }
   ],
   "source": [
    "# Example of user-based recommendation\n",
    "weighted_pixie_recommend(1, walk_length=15, num=5)"
   ]
  },
  {
   "cell_type": "markdown",
   "metadata": {},
   "source": [
    "2. Movie-Based Recommendation: We start the random walk from a movie name (e.g., \"Jurassic Park (1993)\") and get the top 5 recommended movies based on the random walk results."
   ]
  },
  {
   "cell_type": "code",
   "execution_count": 41,
   "metadata": {},
   "outputs": [
    {
     "data": {
      "text/html": [
       "<div>\n",
       "<style scoped>\n",
       "    .dataframe tbody tr th:only-of-type {\n",
       "        vertical-align: middle;\n",
       "    }\n",
       "\n",
       "    .dataframe tbody tr th {\n",
       "        vertical-align: top;\n",
       "    }\n",
       "\n",
       "    .dataframe thead th {\n",
       "        text-align: right;\n",
       "    }\n",
       "</style>\n",
       "<table border=\"1\" class=\"dataframe\">\n",
       "  <thead>\n",
       "    <tr style=\"text-align: right;\">\n",
       "      <th></th>\n",
       "      <th>Ranking</th>\n",
       "      <th>Movie Name</th>\n",
       "    </tr>\n",
       "  </thead>\n",
       "  <tbody>\n",
       "    <tr>\n",
       "      <th>0</th>\n",
       "      <td>1</td>\n",
       "      <td>Young Frankenstein (1974)</td>\n",
       "    </tr>\n",
       "    <tr>\n",
       "      <th>1</th>\n",
       "      <td>2</td>\n",
       "      <td>Groundhog Day (1993)</td>\n",
       "    </tr>\n",
       "    <tr>\n",
       "      <th>2</th>\n",
       "      <td>3</td>\n",
       "      <td>12 Angry Men (1957)</td>\n",
       "    </tr>\n",
       "    <tr>\n",
       "      <th>3</th>\n",
       "      <td>4</td>\n",
       "      <td>My Fellow Americans (1996)</td>\n",
       "    </tr>\n",
       "    <tr>\n",
       "      <th>4</th>\n",
       "      <td>5</td>\n",
       "      <td>Tombstone (1993)</td>\n",
       "    </tr>\n",
       "  </tbody>\n",
       "</table>\n",
       "</div>"
      ],
      "text/plain": [
       "   Ranking                  Movie Name\n",
       "0        1   Young Frankenstein (1974)\n",
       "1        2        Groundhog Day (1993)\n",
       "2        3         12 Angry Men (1957)\n",
       "3        4  My Fellow Americans (1996)\n",
       "4        5            Tombstone (1993)"
      ]
     },
     "execution_count": 41,
     "metadata": {},
     "output_type": "execute_result"
    }
   ],
   "source": [
    "# Example of movie-based recommendation\n",
    "weighted_pixie_recommend(\"Jurassic Park (1993)\", walk_length=10, num=5)\n"
   ]
  },
  {
   "cell_type": "markdown",
   "metadata": {},
   "source": [
    "### Results and Insights"
   ]
  },
  {
   "cell_type": "markdown",
   "metadata": {},
   "source": [
    "After testing the weighted_pixie_recommend function using both user-based and movie-based approaches, we observed some interesting patterns in the recommendations.\n",
    "\n",
    "For the user-based recommendation, we started the random walk from user_id = 1. The model returned a list of five movies, including Quiz Show (1994), Terminator, The (1984), and Psycho (1960). These movies are well-known and popular, suggesting that the random walk reached highly connected nodes in the graph. This behavior reflects how the random walk explores a user’s movie neighborhood in the bipartite graph, surfacing movies that are either directly or indirectly connected to the user via shared preferences with others.\n",
    "\n",
    "In the case of the movie-based recommendation, we started from the movie \"Jurassic Park (1993)\". The results included titles such as Indiana Jones and the Last Crusade (1989) and Graduate, The (1967). These recommendations suggest that the model tends to return movies that are either thematically similar, popular among similar user groups, or frequently co-rated by users who liked Jurassic Park.\n",
    "\n",
    "Some key takeaways:\n",
    "\n",
    "- The random walk effectively captures the structure of the user-movie graph, leading to reasonable and interpretable recommendations.\n",
    "\n",
    "- The recommendations vary slightly across runs due to the stochastic nature of the walk, adding diversity.\n",
    "\n",
    "- Increasing the walk_length allows deeper exploration in the graph, potentially surfacing more relevant movies—but also risks drifting away from the starting point.\n",
    "\n",
    "- The algorithm can be tuned further by incorporating edge weights based on rating strength or user similarity to improve recommendation accuracy.\n",
    "\n",
    "Overall, the Weighted Pixie approach provides a lightweight yet effective way to generate recommendations using graph traversal, and can serve as a good baseline or complementary method in a hybrid recommendation system."
   ]
  },
  {
   "cell_type": "code",
   "execution_count": 42,
   "metadata": {},
   "outputs": [],
   "source": [
    "import matplotlib.pyplot as plt\n",
    "\n",
    "# Helper function to visualize visit counts\n",
    "def visualize_visits(start, walk_length=15, num=5):\n",
    "    visits = {}\n",
    "    \n",
    "    if isinstance(start, int):  # User-based recommendation\n",
    "        if start not in graph:\n",
    "            return \"User not found.\"\n",
    "        current = start\n",
    "    elif isinstance(start, str):  # Movie-based recommendation\n",
    "        movie_id = movie_name_to_id.get(start)\n",
    "        if movie_id not in graph:\n",
    "            return \"Movie not found.\"\n",
    "        current = movie_id\n",
    "    else:\n",
    "        return \"Invalid input. Please provide a user_id (int) or movie_name (str).\"\n",
    "\n",
    "    for _ in range(walk_length):\n",
    "        neighbors = list(graph.get(current, []))\n",
    "        if not neighbors:\n",
    "            break\n",
    "        current = random.choice(neighbors)\n",
    "\n",
    "        if current in movie_id_to_name:\n",
    "            visits[current] = visits.get(current, 0) + 1\n",
    "\n",
    "    if not visits:\n",
    "        return \"No movies visited during the walk.\"\n",
    "\n",
    "    # Sort and keep top N\n",
    "    top_visits = sorted(visits.items(), key=lambda x: x[1], reverse=True)[:num]\n",
    "    movie_names = [movie_id_to_name[movie_id] for movie_id, _ in top_visits]\n",
    "    counts = [count for _, count in top_visits]\n",
    "\n",
    "    # Plot\n",
    "    plt.figure(figsize=(10, 5))\n",
    "    bars = plt.bar(movie_names, counts, color='skyblue')\n",
    "    plt.xlabel(\"Movie Names\")\n",
    "    plt.ylabel(\"Visit Counts\")\n",
    "    plt.title(f\"Top {num} Movie Visits During Random Walk\")\n",
    "    plt.xticks(rotation=45, ha='right')\n",
    "    plt.tight_layout()\n",
    "    \n",
    "    for bar in bars:\n",
    "        yval = bar.get_height()\n",
    "        plt.text(bar.get_x() + bar.get_width()/2.0, yval, int(yval), va='bottom', ha='center')\n",
    "\n",
    "    plt.show()\n"
   ]
  },
  {
   "cell_type": "code",
   "execution_count": 43,
   "metadata": {},
   "outputs": [
    {
     "name": "stdout",
     "output_type": "stream",
     "text": [
      "User-based Random walk : \n",
      "\n"
     ]
    },
    {
     "data": {
      "image/png": "[encoded data removed]",
      "text/plain": [
       "<Figure size 1000x500 with 1 Axes>"
      ]
     },
     "metadata": {},
     "output_type": "display_data"
    }
   ],
   "source": [
    "# Example: Visualize user-based random walk\n",
    "print(\"User-based Random walk : \\n\")\n",
    "visualize_visits(1, walk_length=15, num=5)"
   ]
  },
  {
   "cell_type": "markdown",
   "metadata": {},
   "source": [
    "The top 5 movies visited during the walk are:\n",
    "\n",
    "- Fugitive, The (1993)\n",
    "\n",
    "- Desperate Measures (1998)\n",
    "\n",
    "- Breakdown (1997)\n",
    "\n",
    "- Benny & Joon (1993)\n",
    "\n",
    "- Raising Arizona (1987)\n",
    "\n",
    "📌 Observations:\n",
    "\n",
    "1. All five movies were visited almost equally, with visit counts just below or around 1.0.\n",
    "\n",
    "2. The walk seems to explore movies that are either liked by the same user or users with similar tastes.\n",
    "\n",
    "3. Movies from the 90s dominate, possibly indicating the user’s preference for that era or the popularity of those movies among similar users.\n",
    "\n",
    "Takeaway:\n",
    "The random walk is effectively capturing a diverse set of user-connected movies, showing how it can recommend different but related titles by walking through the user-movie graph."
   ]
  },
  {
   "cell_type": "code",
   "execution_count": 44,
   "metadata": {},
   "outputs": [
    {
     "name": "stdout",
     "output_type": "stream",
     "text": [
      "Movie-based Random walk : \n",
      "\n"
     ]
    },
    {
     "data": {
      "image/png": "[encoded data removed]",
      "text/plain": [
       "<Figure size 1000x500 with 1 Axes>"
      ]
     },
     "metadata": {},
     "output_type": "display_data"
    }
   ],
   "source": [
    "# Example: Visualize movie-based random walk\n",
    "print(\"Movie-based Random walk : \\n\")\n",
    "visualize_visits(\"Jurassic Park (1993)\", walk_length=10, num=5)"
   ]
  },
  {
   "cell_type": "markdown",
   "metadata": {},
   "source": [
    "The top 5 visited movies are:\n",
    "\n",
    "- Mission: Impossible (1996) – highest visits (2)\n",
    "\n",
    "- Richard III (1995)\n",
    "\n",
    "- Murder (1956)\n",
    "\n",
    "- Christmas Carol, A (1938)\n",
    "\n",
    "- House of the Spirits, The (1993)\n",
    "\n",
    "📌 Observations:\n",
    "\n",
    "1. Mission: Impossible got the highest number of visits (2), possibly because it shares an action-adventure vibe with Jurassic Park.\n",
    "\n",
    "2. The other movies span a wide range of genres and release years, from a 1938 classic to a 1993 drama.\n",
    "\n",
    "3. The variety shows that the walk doesn't just look for similar themes but also reflects shared user preferences.\n",
    "\n",
    "Takeaway:\n",
    "Movie-based random walks explore the user-movie network around the selected movie. It can pick up titles liked by users who also liked Jurassic Park, though some results (like Christmas Carol, A (1938)) might seem unrelated due to randomness or sparse connections in the graph."
   ]
  },
  {
   "cell_type": "markdown",
   "metadata": {
    "id": "Q36Y2C7PxWO0"
   },
   "source": [
    "---"
   ]
  },
  {
   "cell_type": "markdown",
   "metadata": {
    "id": "9iKlQlvBtiGe"
   },
   "source": [
    "## **Submission Requirements:**"
   ]
  },
  {
   "cell_type": "markdown",
   "metadata": {
    "id": "NHGGedZexPs0"
   },
   "source": [
    "To successfully complete this assignment, ensure that you submit the following:\n",
    "\n",
    "\n",
    "### **1. Jupyter Notebook Submission**\n",
    "- Submit a **fully completed Jupyter Notebook** that includes:\n",
    "  - **All implemented recommendation functions** (user-based, item-based, and random walk-based recommendations).\n",
    "  - **Code explanations** in markdown cells to describe each step.\n",
    "  - **Results and insights** from running your recommendation models.\n",
    "\n",
    "\n",
    "### **2. Explanation of Pixie-Inspired Algorithms (3-5 Paragraphs)**\n",
    "- Write a **detailed explanation** of **Pixie-inspired random walk algorithms** used for recommendations.\n",
    "- Your explanation should cover:\n",
    "  - What **Pixie-inspired recommendation systems** are.\n",
    "  - How **random walks** help in identifying relevant recommendations.\n",
    "  - Any real-world applications of such algorithms in industry.\n",
    "\n",
    "\n",
    "### **3. Report for the Submitted Notebook**\n",
    "Your report should be structured as follows:\n",
    "\n",
    "#### **Title: Movie Recommendation System Report**\n",
    "\n",
    "#### **1. Introduction**\n",
    "- Briefly introduce **movie recommendation systems** and why they are important.\n",
    "- Explain the **different approaches used** (user-based, item-based, random-walk).\n",
    "\n",
    "#### **2. Dataset Description**\n",
    "- Describe the **MovieLens 100K dataset**:\n",
    "  - Number of users, movies, and ratings.\n",
    "  - What features were used.\n",
    "  - Any preprocessing performed.\n",
    "\n",
    "#### **3. Methodology**\n",
    "- Explain the three recommendation techniques implemented:\n",
    "  - **User-based collaborative filtering** (how user similarity was calculated).\n",
    "  - **Item-based collaborative filtering** (how item similarity was determined).\n",
    "  - **Random-walk-based Pixie algorithm** (why graph-based approaches are effective).\n",
    "  \n",
    "#### **4. Implementation Details**\n",
    "- Discuss the steps taken to build the functions.\n",
    "- Describe how the **adjacency list graph** was created.\n",
    "- Explain how **random walks** were performed and how visited movies were ranked.\n",
    "\n",
    "#### **5. Results and Evaluation**\n",
    "- Present **example outputs** from each recommendation approach.\n",
    "- Compare the different methods in terms of accuracy and usefulness.\n",
    "- Discuss any **limitations** in the implementation.\n",
    "\n",
    "#### **6. Conclusion**\n",
    "- Summarize the key takeaways from the project.\n",
    "- Discuss potential improvements (e.g., **hybrid models, additional features**).\n",
    "- Suggest real-world applications of the methods used."
   ]
  },
  {
   "cell_type": "markdown",
   "metadata": {
    "id": "NWgT_Shy-vUK"
   },
   "source": [
    "### **Submission Instructions**"
   ]
  },
  {
   "cell_type": "markdown",
   "metadata": {
    "id": "Nuz1s-Vh_L55"
   },
   "source": [
    "- Submit `.zip` file consisting of Jupyter Notebook and all the datafiles (provided) and the ones saved [i.e. `users.csv`, `movies.csv` and `ratings.csv`]. Also, include the Report and Pixie Algorithm explanation document.\n",
    "- [`Bonus 10 Points`] **Upload your Jupyter Notebook, Explanation Document, and Report** to your GitHub repository.\n",
    "- Ensure the repository is public and contains:\n",
    "  - `users.csv`, `movies.csv` and `ratings.csv` [These are the Dataframes which were created in part 1. Save and export them as a `.csv` file]\n",
    "  - `Movie_Recommendation.ipynb`\n",
    "  - `Pixie_Algorithm_Explanation.pdf` or `.md`\n",
    "  - `Recommendation_Report.pdf` or `.md`\n",
    "- **Submit the GitHub repository link in the cell below.**\n",
    "\n",
    "\n",
    "#### **Example Submission Format**\n",
    "```text\n",
    "GitHub Repository: https://github.com/username/Movie-Recommendation\n",
    "```"
   ]
  },
  {
   "cell_type": "code",
   "execution_count": null,
   "metadata": {},
   "outputs": [],
   "source": [
    "# Submit the Github Link here:\n",
    "https://github.com/shravani-sajekar/Movie-Recommendation"
   ]
  },
  {
   "cell_type": "markdown",
   "metadata": {
    "id": "oQ6aluK-0ZMa"
   },
   "source": [
    "### **Grading Rubric: ITCS 6162 - Data Mining Assignment**"
   ]
  },
  {
   "cell_type": "markdown",
   "metadata": {
    "id": "sNAfeIzA_fCq"
   },
   "source": [
    "\n",
    "| **Category**                              | **Criteria**                                                     | **Points** |\n",
    "|-------------------------------------------|----------------------------------------------------------------|------------|\n",
    "| **Part 1: Exploring and Cleaning Data (15 pts)**  | Properly loads `u.user`, `u.movies`, and `u.item` datasets into DataFrames | 5 |\n",
    "|                                           | Handles missing values, duplicates, and inconsistencies appropriately | 5 |\n",
    "|                                           | Saves the cleaned datasets into CSV files: `users.csv`, `movies.csv`, `ratings.csv` | 5 |\n",
    "| **Part 2: Collaborative Filtering-Based Recommendation (30 pts)** | Implements user-based collaborative filtering correctly | 10 |\n",
    "|                                           | Implements item-based collaborative filtering correctly | 10 |\n",
    "|                                           | Computes similarity measures accurately and provides valid recommendations | 10 |\n",
    "| **Part 3: Graph-Based Recommender (Pixie-Inspired Algorithm) (35 pts)** | Constructs adjacency lists properly from user-movie interactions | 10 |\n",
    "|                                           | Implements weighted random walk-based recommendation correctly | 15 |\n",
    "|                                           | Explains and justifies the algorithm design choices (Pixie-inspired) | 10 |\n",
    "| **Code Quality & Documentation (10 pts)** | Code is well-structured, efficient, and follows best practices | 5 |\n",
    "|                                           | Markdown explanations and comments are clear and enhance understanding | 5 |\n",
    "| **Results & Interpretation (5 pts)**      | Provides meaningful insights from the recommendation system's output | 5 |\n",
    "| **Submission & Report (5 pts)**          | Submits all required files in the correct format (ZIP file with Jupyter notebook, processed CSV files, and project report) | 5 |\n",
    "| **Total**                                 |                              | 100 |\n",
    "\n",
    "#### **Bonus (10 pts)**\n",
    "| **Category**                              | **Criteria**                                                     | **Points** |\n",
    "|-------------------------------------------|----------------------------------------------------------------|------------|\n",
    "| **GitHub Submission**                     | Provides a well-documented GitHub repository with CSV files, a structured README, and a properly formatted Jupyter Notebook | 10 |"
   ]
  }
 ],
 "metadata": {
  "colab": {
   "collapsed_sections": [
    "NjxACjUgFwsk",
    "AyeSaLpRGYuC",
    "fOXp00QSbtHk",
    "MIN3XqC0eUAu",
    "u_YceL18lWlN",
    "_ZE31gB7lImI",
    "Nuz1s-Vh_L55"
   ],
   "provenance": []
  },
  "kernelspec": {
   "display_name": "Python 3 (ipykernel)",
   "language": "python",
   "name": "python3"
  },
  "language_info": {
   "codemirror_mode": {
    "name": "ipython",
    "version": 3
   },
   "file_extension": ".py",
   "mimetype": "text/x-python",
   "name": "python",
   "nbconvert_exporter": "python",
   "pygments_lexer": "ipython3",
   "version": "3.8.10"
  }
 },
 "nbformat": 4,
 "nbformat_minor": 4
}
